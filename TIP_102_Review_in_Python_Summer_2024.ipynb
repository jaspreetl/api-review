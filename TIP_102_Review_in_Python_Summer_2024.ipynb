{
  "nbformat": 4,
  "nbformat_minor": 0,
  "metadata": {
    "colab": {
      "provenance": [],
      "include_colab_link": true
    },
    "kernelspec": {
      "name": "python3",
      "display_name": "Python 3"
    },
    "language_info": {
      "name": "python"
    }
  },
  "cells": [
    {
      "cell_type": "markdown",
      "metadata": {
        "id": "view-in-github",
        "colab_type": "text"
      },
      "source": [
        "<a href=\"https://colab.research.google.com/github/jaspreetl/api-review/blob/master/TIP_102_Review_in_Python_Summer_2024.ipynb\" target=\"_parent\"><img src=\"https://colab.research.google.com/assets/colab-badge.svg\" alt=\"Open In Colab\"/></a>"
      ]
    },
    {
      "cell_type": "markdown",
      "source": [
        ">[Basic Arithmetic](#scrollTo=k9Mf4jNgxZyb&uniqifier=1)\n",
        "\n",
        ">[Variables](#scrollTo=ZfSITu1PqGP9&uniqifier=1)\n",
        "\n",
        ">[Lists](#scrollTo=fjqWEkrGqPwn&uniqifier=1)\n",
        "\n",
        ">[For and While Loops](#scrollTo=qKiCvS1yqZXa&uniqifier=1)\n",
        "\n",
        ">[Conditional statements](#scrollTo=T_CmtCjBqoo9&uniqifier=1)\n",
        "\n",
        ">[Range](#scrollTo=rdsO7UsyqtS1&uniqifier=1)\n",
        "\n",
        ">[Enumerate](#scrollTo=-6x-GWzEqxGl&uniqifier=1)\n",
        "\n",
        ">[List Comprehensions](#scrollTo=s97jZP7Nq150&uniqifier=1)\n",
        "\n",
        ">[Functions, Methods, and Parameters](#scrollTo=um8rlCGarKaT&uniqifier=1)\n",
        "\n",
        ">[Importing libraries](#scrollTo=RemjjW77riU_&uniqifier=1)\n",
        "\n",
        ">[Classes](#scrollTo=akuU985HrqIh&uniqifier=1)\n",
        "\n",
        ">[UMPIRE](#scrollTo=knaesCqpbFCO&uniqifier=1)\n",
        "\n",
        ">[Time & Space Complexity](#scrollTo=Tql7IZgaY4kz&uniqifier=1)\n",
        "\n",
        ">[Hash Tables](#scrollTo=pQ1HNRbHdDLD&uniqifier=1)\n",
        "\n",
        ">[Stacks & Queues](#scrollTo=8B_mPlUTsTaq&uniqifier=1)\n",
        "\n",
        ">>[Stacks](#scrollTo=8B_mPlUTsTaq&uniqifier=1)\n",
        "\n",
        ">>[Evaluating Post-Order and In-Order Expressions using Stacks](#scrollTo=B6Yl_eYfGC0T&uniqifier=1)\n",
        "\n",
        ">>>[Motivation](#scrollTo=B6Yl_eYfGC0T&uniqifier=1)\n",
        "\n",
        ">>[Real World Applications](#scrollTo=B6Yl_eYfGC0T&uniqifier=1)\n",
        "\n",
        ">>[Evaluating Postfix](#scrollTo=ggtB8uwCN8oP&uniqifier=1)\n",
        "\n",
        ">>[Evaluating Prefix](#scrollTo=eTGhkB4yLKwv&uniqifier=1)\n",
        "\n",
        ">>[Connection to Tree Traversals](#scrollTo=RraD-8oPL-Ft&uniqifier=1)\n",
        "\n",
        ">>[Queues](#scrollTo=3QKFV11SqsqY&uniqifier=1)\n",
        "\n",
        ">[Heaps](#scrollTo=6td-y044rZZo&uniqifier=1)\n",
        "\n",
        ">>[Properties of Heaps](#scrollTo=6td-y044rZZo&uniqifier=1)\n",
        "\n",
        ">>[Operations on Heaps](#scrollTo=6td-y044rZZo&uniqifier=1)\n",
        "\n",
        ">>[Heapify](#scrollTo=CMQ5xQ0Cr8_T&uniqifier=1)\n",
        "\n",
        ">[Linked Lists](#scrollTo=OrV6raCasJiG&uniqifier=1)\n",
        "\n",
        ">>[Purpose of Sentinel Nodes:](#scrollTo=zFnKMz8fLLIa&uniqifier=1)\n",
        "\n",
        ">>[Floyd's Tortoise and Hare Algorithm for Circular Linked Lists](#scrollTo=hF7bF__tPR7J&uniqifier=1)\n",
        "\n",
        ">[Strings and Arrays](#scrollTo=yWs5OENJFFfE&uniqifier=1)\n",
        "\n",
        ">>[Techniques and Structures for Solving Probelems:](#scrollTo=yWs5OENJFFfE&uniqifier=1)\n",
        "\n",
        ">>[Two Pointer Technique](#scrollTo=ArShlGbvpsJ3&uniqifier=1)\n",
        "\n",
        ">>[Multiple Pointers Technique](#scrollTo=BPBoHiirqy8K&uniqifier=1)\n",
        "\n",
        ">>[Sliding Window Technique](#scrollTo=f_5PyRMdrVkV&uniqifier=1)\n",
        "\n",
        ">>[Counter Variables](#scrollTo=oRjDpy8FryN0&uniqifier=1)\n",
        "\n",
        ">>[Sorting Algorithms](#scrollTo=QIXQNNQxsBhC&uniqifier=1)\n",
        "\n",
        ">[Recursion](#scrollTo=K-HoavUibYtX&uniqifier=1)\n",
        "\n",
        ">[Sorting Algorithms](#scrollTo=sds0qZUEoKZU&uniqifier=1)\n",
        "\n",
        ">[Binary Trees](#scrollTo=QLsoUy4bjMOY&uniqifier=1)\n",
        "\n",
        ">>[Characterisitcs of a Binary Tree](#scrollTo=QLsoUy4bjMOY&uniqifier=1)\n",
        "\n",
        ">>[Height vs Depth](#scrollTo=QLsoUy4bjMOY&uniqifier=1)\n",
        "\n",
        ">>[Balanced Trees](#scrollTo=QLsoUy4bjMOY&uniqifier=1)\n",
        "\n",
        ">>[Full vs Complete Trees](#scrollTo=QLsoUy4bjMOY&uniqifier=1)\n",
        "\n",
        ">>[Tree Traversals](#scrollTo=3T2l4pqSEisB&uniqifier=1)\n",
        "\n",
        ">>[Binary Search Trees](#scrollTo=S6lFjdbEEN50&uniqifier=1)\n",
        "\n",
        ">>[Charcateristics of a Binary Search Tree](#scrollTo=S6lFjdbEEN50&uniqifier=1)\n",
        "\n"
      ],
      "metadata": {
        "colab_type": "toc",
        "id": "WmiXe2OiaAH9"
      }
    },
    {
      "cell_type": "markdown",
      "source": [
        "#Basic Arithmetic"
      ],
      "metadata": {
        "id": "k9Mf4jNgxZyb"
      }
    },
    {
      "cell_type": "code",
      "source": [
        "# Addition\n",
        "a = 5\n",
        "b = 3\n",
        "sum_result = a + b\n",
        "print(f\"Addition: {a} + {b} = {sum_result}\")"
      ],
      "metadata": {
        "id": "_JXSzA6mxd3X",
        "outputId": "19d2c0ea-cc1c-48f8-b1dd-77167c96d9ee",
        "colab": {
          "base_uri": "https://localhost:8080/"
        }
      },
      "execution_count": null,
      "outputs": [
        {
          "output_type": "stream",
          "name": "stdout",
          "text": [
            "Addition: 5 + 3 = 8\n"
          ]
        }
      ]
    },
    {
      "cell_type": "code",
      "source": [
        "#Subtraction\n",
        "a=10\n",
        "b=5\n",
        "a-b\n",
        "print(f\"Subtraction: {b} - {b} = {a-b}\")"
      ],
      "metadata": {
        "id": "1-Rr5laDbDN9",
        "outputId": "23ec0772-db36-4574-8541-802b96615349",
        "colab": {
          "base_uri": "https://localhost:8080/"
        }
      },
      "execution_count": null,
      "outputs": [
        {
          "output_type": "stream",
          "name": "stdout",
          "text": [
            "Subtraction: 5 - 5 = 5\n"
          ]
        }
      ]
    },
    {
      "cell_type": "code",
      "source": [
        "# Multiplication\n",
        "a = 5\n",
        "b = 3\n",
        "multiplication_result = a * b\n",
        "print(f\"Multiplication: {a} * {b} = {multiplication_result}\")"
      ],
      "metadata": {
        "id": "x0A1eCsnxeLk",
        "outputId": "a799954c-0a3e-4498-a032-a7736ccffe34",
        "colab": {
          "base_uri": "https://localhost:8080/"
        }
      },
      "execution_count": null,
      "outputs": [
        {
          "output_type": "stream",
          "name": "stdout",
          "text": [
            "Multiplication: 5 * 3 = 15\n"
          ]
        }
      ]
    },
    {
      "cell_type": "code",
      "source": [
        "# Division\n",
        "a = 5\n",
        "b = 3\n",
        "division_result = a / b\n",
        "print(f\"Division: {a} / {b} = {division_result}\")"
      ],
      "metadata": {
        "id": "9R10VLfGxeTw",
        "outputId": "4ecfc407-7eaa-48ba-a1d7-7055326478c4",
        "colab": {
          "base_uri": "https://localhost:8080/"
        }
      },
      "execution_count": null,
      "outputs": [
        {
          "output_type": "stream",
          "name": "stdout",
          "text": [
            "Division: 5 / 3 = 1.6666666666666667\n"
          ]
        }
      ]
    },
    {
      "cell_type": "code",
      "source": [
        "# Floor Division\n",
        "a = 5\n",
        "b = 3\n",
        "floor_division_result = a // b\n",
        "print(f\"Floor Division: {a} // {b} = {floor_division_result}\")"
      ],
      "metadata": {
        "id": "vxWKmM5HxupR",
        "outputId": "377cc4d2-39c1-4164-9347-bd8096dc7ba9",
        "colab": {
          "base_uri": "https://localhost:8080/"
        }
      },
      "execution_count": null,
      "outputs": [
        {
          "output_type": "stream",
          "name": "stdout",
          "text": [
            "Floor Division: 5 // 3 = 1\n"
          ]
        }
      ]
    },
    {
      "cell_type": "code",
      "source": [
        "# Modulus\n",
        "a = 5.3\n",
        "b = 2.1\n",
        "modulus_result = a % b\n",
        "print(f\"Modulus: {a} % {b} = {modulus_result}\")"
      ],
      "metadata": {
        "id": "FP3rlQOtxx7R",
        "outputId": "9be907ef-6c41-4246-ac61-f4a3dbffd829",
        "colab": {
          "base_uri": "https://localhost:8080/"
        }
      },
      "execution_count": null,
      "outputs": [
        {
          "output_type": "stream",
          "name": "stdout",
          "text": [
            "Modulus: 5.3 % 2.1 = 1.0999999999999996\n"
          ]
        }
      ]
    },
    {
      "cell_type": "code",
      "source": [
        "# Exponentiation\n",
        "a = 2\n",
        "b = 3\n",
        "exponentiation_result = a ** b\n",
        "print(f\"Exponentiation: {a} ** {b} = {exponentiation_result}\")"
      ],
      "metadata": {
        "id": "EKyZ6FV7x0ZQ",
        "outputId": "de9ca899-72f5-4cab-ca7d-9ca3836d9856",
        "colab": {
          "base_uri": "https://localhost:8080/"
        }
      },
      "execution_count": null,
      "outputs": [
        {
          "output_type": "stream",
          "name": "stdout",
          "text": [
            "Exponentiation: 2 ** 3 = 8\n"
          ]
        }
      ]
    },
    {
      "cell_type": "markdown",
      "source": [
        "# Variables\n",
        "Variables are used to store data. No need to declare type explicitly."
      ],
      "metadata": {
        "id": "ZfSITu1PqGP9"
      }
    },
    {
      "cell_type": "code",
      "source": [
        "x = 10  # integer\n",
        "y = 3.14  # float\n",
        "name = 'Noely'  # string\n",
        "name1 = \"Noely\"  # string\n",
        "is_student = True  # boolean True/False"
      ],
      "metadata": {
        "id": "KtOiDQjTqMvL"
      },
      "execution_count": null,
      "outputs": []
    },
    {
      "cell_type": "markdown",
      "source": [
        "# Lists\n",
        "Lists are ordered collections of items."
      ],
      "metadata": {
        "id": "fjqWEkrGqPwn"
      }
    },
    {
      "cell_type": "code",
      "source": [
        "# Various ways to initialize a list\n",
        "empty_list = []  # Empty list\n",
        "number_list = [1, 2, 3, 4, 5]  # List with initial values\n",
        "\n",
        "\n",
        "string_list =list(\"hello\")   # List from a string\n",
        "\n",
        "range_list = list(range(100))  # List from a range\n",
        "\n",
        "\n",
        "# Accessing list elements\n",
        "print(\"Empty List:\", empty_list)\n",
        "print(\"Number List:\", number_list)\n",
        "print(\"String List:\", string_list)\n",
        "print(\"Range List:\", range_list)"
      ],
      "metadata": {
        "id": "ffPKu21JqSMv",
        "outputId": "815e6cf1-a68e-4949-8142-247c2914b554",
        "colab": {
          "base_uri": "https://localhost:8080/"
        }
      },
      "execution_count": null,
      "outputs": [
        {
          "output_type": "stream",
          "name": "stdout",
          "text": [
            "Empty List: []\n",
            "Number List: [1, 2, 3, 4, 5]\n",
            "String List: ['h', 'e', 'l', 'l', 'o']\n",
            "Range List: [0, 1, 2, 3, 4, 5, 6, 7, 8, 9, 10, 11, 12, 13, 14, 15, 16, 17, 18, 19, 20, 21, 22, 23, 24, 25, 26, 27, 28, 29, 30, 31, 32, 33, 34, 35, 36, 37, 38, 39, 40, 41, 42, 43, 44, 45, 46, 47, 48, 49, 50, 51, 52, 53, 54, 55, 56, 57, 58, 59, 60, 61, 62, 63, 64, 65, 66, 67, 68, 69, 70, 71, 72, 73, 74, 75, 76, 77, 78, 79, 80, 81, 82, 83, 84, 85, 86, 87, 88, 89, 90, 91, 92, 93, 94, 95, 96, 97, 98, 99]\n"
          ]
        }
      ]
    },
    {
      "cell_type": "markdown",
      "source": [
        "# For and While Loops\n",
        "\n",
        "A for loop is typically used when you know in advance how many times you want to execute a statement or a block of statements. It is especially useful for iterating over a sequence (like a list, tuple, dictionary, set, or string).\n",
        "\n",
        "A while loop is used when you want to repeat a block of code as long as a condition is true. It is more flexible than a for loop because the condition can be anything, and the number of iterations doesn't need to be known beforehand."
      ],
      "metadata": {
        "id": "qKiCvS1yqZXa"
      }
    },
    {
      "cell_type": "code",
      "source": [
        "# For loop\n",
        "# Used to iterate over a sequence (like a list).\n",
        "numbers = [1, 2, 3, 4]\n",
        "#print(numbers[0])\n",
        "#print(numbers[1])\n",
        "#print(numbers[2])\n",
        "#print(numbers[3])\n",
        "\n",
        "#iterable :\n",
        "for i in numbers:\n",
        "    print(f\"Number: {i}\")\n"
      ],
      "metadata": {
        "id": "yMbS3Cp7qiRw",
        "outputId": "b0bd2a30-2229-4fc8-f2ba-45105d0ffb12",
        "colab": {
          "base_uri": "https://localhost:8080/"
        }
      },
      "execution_count": null,
      "outputs": [
        {
          "output_type": "stream",
          "name": "stdout",
          "text": [
            "Number: 1\n",
            "Number: 2\n",
            "Number: 3\n",
            "Number: 4\n"
          ]
        }
      ]
    },
    {
      "cell_type": "code",
      "source": [
        "#len() - returns an integer represnting the length of the list\n",
        "length = len(numbers)\n",
        "print(f' Lenth of numbers: {length}')"
      ],
      "metadata": {
        "id": "8goyyzurWbyO",
        "outputId": "6e625cc0-e692-4858-ca90-62ff468cfa27",
        "colab": {
          "base_uri": "https://localhost:8080/"
        }
      },
      "execution_count": null,
      "outputs": [
        {
          "output_type": "stream",
          "name": "stdout",
          "text": [
            " Lenth of numbers: 4\n"
          ]
        }
      ]
    },
    {
      "cell_type": "code",
      "source": [
        "#Slicing the List\n",
        "numbers[0] #1\n",
        "numbers[0:3] #1,2,3\n",
        "numbers[0:len(numbers)-1] #1,2,3"
      ],
      "metadata": {
        "id": "NNff2wzHW0Er",
        "outputId": "e0e9f17b-de19-4dc5-c3e9-5c961f9f950b",
        "colab": {
          "base_uri": "https://localhost:8080/"
        }
      },
      "execution_count": null,
      "outputs": [
        {
          "output_type": "execute_result",
          "data": {
            "text/plain": [
              "[1, 2, 3]"
            ]
          },
          "metadata": {},
          "execution_count": 13
        }
      ]
    },
    {
      "cell_type": "code",
      "source": [
        "'''\n",
        "What we want:\n",
        "    print(numbers[0])\n",
        "    print(numbers[1])\n",
        "    print(numbers[2])\n",
        "'''\n",
        "\n",
        "#We need type list to iterate over which is why we slice\n",
        "for i in numbers[0:len(numbers)-1]:\n",
        "    print(f\"Number: {i}\")\n"
      ],
      "metadata": {
        "id": "AfqHAHcntzxl",
        "outputId": "4c90436a-3b69-499e-83e9-8f9fc799a59b",
        "colab": {
          "base_uri": "https://localhost:8080/"
        }
      },
      "execution_count": null,
      "outputs": [
        {
          "output_type": "stream",
          "name": "stdout",
          "text": [
            "Number: 1\n",
            "Number: 2\n",
            "Number: 3\n"
          ]
        }
      ]
    },
    {
      "cell_type": "code",
      "source": [
        "# While loop\n",
        "# Repeats as long as a condition is True.\n",
        "count = 0\n",
        "while count < 5:\n",
        "    print(f\"Count: {count}\")\n",
        "    count += 1"
      ],
      "metadata": {
        "id": "u50Es3aPtdNE",
        "outputId": "4c7519f1-b2e2-4c18-f7c9-e4f3237d225e",
        "colab": {
          "base_uri": "https://localhost:8080/"
        }
      },
      "execution_count": null,
      "outputs": [
        {
          "output_type": "stream",
          "name": "stdout",
          "text": [
            "Count: 0\n",
            "Count: 1\n",
            "Count: 2\n",
            "Count: 3\n",
            "Count: 4\n"
          ]
        }
      ]
    },
    {
      "cell_type": "markdown",
      "source": [
        "# Conditional statements\n",
        "Used to perform actions based on conditions."
      ],
      "metadata": {
        "id": "T_CmtCjBqoo9"
      }
    },
    {
      "cell_type": "code",
      "source": [
        "x = 5"
      ],
      "metadata": {
        "id": "zLVhubF3tZ9A"
      },
      "execution_count": null,
      "outputs": []
    },
    {
      "cell_type": "code",
      "source": [
        "if x > 5:\n",
        "    print(\"x is greater than 5\")\n",
        "elif x == 5:\n",
        "    print(\"x is equal to 5\")\n",
        "else:\n",
        "    print(\"x is less than 5\")"
      ],
      "metadata": {
        "id": "AbkdRj70qptn",
        "outputId": "1f0d68cc-1cb4-43c2-a5f3-ffc7daf35837",
        "colab": {
          "base_uri": "https://localhost:8080/"
        }
      },
      "execution_count": null,
      "outputs": [
        {
          "output_type": "stream",
          "name": "stdout",
          "text": [
            "x is equal to 5\n"
          ]
        }
      ]
    },
    {
      "cell_type": "markdown",
      "source": [
        "# Range\n",
        "Used to generate a sequence of numbers from 0 to n-1."
      ],
      "metadata": {
        "id": "rdsO7UsyqtS1"
      }
    },
    {
      "cell_type": "code",
      "source": [
        "for i in range(5):\n",
        "    print(f\"Range value: {i}\")"
      ],
      "metadata": {
        "id": "ijguqXxWqvB4",
        "outputId": "ac3c38e3-7965-4c68-c74b-c80c65fa261d",
        "colab": {
          "base_uri": "https://localhost:8080/"
        }
      },
      "execution_count": null,
      "outputs": [
        {
          "output_type": "stream",
          "name": "stdout",
          "text": [
            "Range value: 0\n",
            "Range value: 1\n",
            "Range value: 2\n",
            "Range value: 3\n",
            "Range value: 4\n"
          ]
        }
      ]
    },
    {
      "cell_type": "code",
      "source": [
        "for i in range(2,10):\n",
        "    print(f\"Range value: {i}\")"
      ],
      "metadata": {
        "id": "xCHzCJ-3t7w5",
        "outputId": "4e688253-88fe-4adb-d800-c3153964762d",
        "colab": {
          "base_uri": "https://localhost:8080/"
        }
      },
      "execution_count": null,
      "outputs": [
        {
          "output_type": "stream",
          "name": "stdout",
          "text": [
            "Range value: 2\n",
            "Range value: 3\n",
            "Range value: 4\n",
            "Range value: 5\n",
            "Range value: 6\n",
            "Range value: 7\n",
            "Range value: 8\n",
            "Range value: 9\n"
          ]
        }
      ]
    },
    {
      "cell_type": "code",
      "source": [
        "for i in range(10,0, -1):\n",
        "    print(f\"Range value: {i}\")"
      ],
      "metadata": {
        "id": "ja3t6fCqt774",
        "outputId": "ee0a8115-0088-4655-c3e2-97ee0d3343d5",
        "colab": {
          "base_uri": "https://localhost:8080/"
        }
      },
      "execution_count": null,
      "outputs": [
        {
          "output_type": "stream",
          "name": "stdout",
          "text": [
            "Range value: 10\n",
            "Range value: 9\n",
            "Range value: 8\n",
            "Range value: 7\n",
            "Range value: 6\n",
            "Range value: 5\n",
            "Range value: 4\n",
            "Range value: 3\n",
            "Range value: 2\n",
            "Range value: 1\n"
          ]
        }
      ]
    },
    {
      "cell_type": "markdown",
      "source": [
        "# Enumerate\n",
        "Adds a counter to an iterable."
      ],
      "metadata": {
        "id": "-6x-GWzEqxGl"
      }
    },
    {
      "cell_type": "code",
      "source": [
        "names = [\"Alice\", \"Bob\", \"Charlie\"]\n",
        "for value in names:\n",
        "    print(f\" Name: {value}\")"
      ],
      "metadata": {
        "id": "OJQvfB_GuI0A",
        "outputId": "2fe90535-e606-4523-b0ef-9c165d884e63",
        "colab": {
          "base_uri": "https://localhost:8080/"
        }
      },
      "execution_count": null,
      "outputs": [
        {
          "output_type": "stream",
          "name": "stdout",
          "text": [
            " Name: Alice\n",
            " Name: Bob\n",
            " Name: Charlie\n"
          ]
        }
      ]
    },
    {
      "cell_type": "code",
      "source": [
        "names = [\"Alice\", \"Bob\", \"Charlie\"]\n",
        "for index, value in enumerate(names):\n",
        "    print(f\"Index: {index}, Name: {value}\")"
      ],
      "metadata": {
        "id": "A7YlyJE_qzlW",
        "outputId": "7e2fd289-410c-466d-a368-4833943c70f1",
        "colab": {
          "base_uri": "https://localhost:8080/"
        }
      },
      "execution_count": null,
      "outputs": [
        {
          "output_type": "stream",
          "name": "stdout",
          "text": [
            "Index: 0, Name: Alice\n",
            "Index: 1, Name: Bob\n",
            "Index: 2, Name: Charlie\n"
          ]
        }
      ]
    },
    {
      "cell_type": "markdown",
      "source": [
        "# List Comprehensions\n",
        "\n",
        "List comprehension is a quick way to create a list by having the for loop and the creation of new elements inside the list.\n",
        "\n",
        "**Format** : new_list = [expression + for item in iterable + if condition]\n",
        "\n",
        "An iterable is a sequence of items that can be iterated over."
      ],
      "metadata": {
        "id": "s97jZP7Nq150"
      }
    },
    {
      "cell_type": "code",
      "source": [
        "# Basic list comprehension\n",
        "squares = [x**2 for x in range(10)]\n",
        "print(\"Squares:\", squares)"
      ],
      "metadata": {
        "id": "dAV9b84WrBDl",
        "outputId": "70d8e80b-8f5a-45f3-b0de-2ade47b25878",
        "colab": {
          "base_uri": "https://localhost:8080/"
        }
      },
      "execution_count": null,
      "outputs": [
        {
          "output_type": "stream",
          "name": "stdout",
          "text": [
            "Squares: [0, 1, 4, 9, 16, 25, 36, 49, 64, 81]\n"
          ]
        }
      ]
    },
    {
      "cell_type": "code",
      "source": [
        "# List comprehension with condition\n",
        "evens = [x for x in range(10) if x % 2 == 0]\n",
        "print(\"Evens:\", evens)"
      ],
      "metadata": {
        "id": "nfAZFGWKrEMR",
        "outputId": "c21a5529-58df-464e-9e62-38d199e107e5",
        "colab": {
          "base_uri": "https://localhost:8080/"
        }
      },
      "execution_count": null,
      "outputs": [
        {
          "output_type": "stream",
          "name": "stdout",
          "text": [
            "Evens: [0, 2, 4, 6, 8]\n"
          ]
        }
      ]
    },
    {
      "cell_type": "markdown",
      "source": [
        "# Functions, Methods, and Parameters\n",
        "Functions are blocks of code that perform a specific task.\n",
        "\n",
        "Methods are functions that belong to an object.\n",
        "\n",
        "Parameters are inputs to functions.\n"
      ],
      "metadata": {
        "id": "um8rlCGarKaT"
      }
    },
    {
      "cell_type": "code",
      "source": [
        "def greet(name):\n",
        "    \"\"\"Function to greet a person.\"\"\"\n",
        "    print(f\"Hello, {name}!\")\n",
        "\n",
        "greet(\"Noely\")"
      ],
      "metadata": {
        "id": "NlcYhWDRrQzK",
        "outputId": "07228923-3e14-4920-d814-d13dc1f92f71",
        "colab": {
          "base_uri": "https://localhost:8080/"
        }
      },
      "execution_count": null,
      "outputs": [
        {
          "output_type": "stream",
          "name": "stdout",
          "text": [
            "Hello, Noely!\n"
          ]
        }
      ]
    },
    {
      "cell_type": "code",
      "source": [
        "# Methods are functions that belong to an object.\n",
        "text = \"hello\"\n",
        "print(text.upper())  # Converts text to uppercase."
      ],
      "metadata": {
        "id": "38zfeK-KrVcz",
        "outputId": "595a9220-2cfc-49f6-85af-2717a89a622a",
        "colab": {
          "base_uri": "https://localhost:8080/"
        }
      },
      "execution_count": null,
      "outputs": [
        {
          "output_type": "stream",
          "name": "stdout",
          "text": [
            "HELLO\n"
          ]
        }
      ]
    },
    {
      "cell_type": "code",
      "source": [
        "def add(a, b):\n",
        "    \"\"\"Function to add two numbers.\"\"\"\n",
        "    return a + b\n",
        "\n",
        "\n",
        "result = add(5, 3)\n",
        "print(f\"Addition result: {result}\")"
      ],
      "metadata": {
        "id": "E2LH6P6drXT1",
        "outputId": "259e24ed-7334-4268-9b4f-7fc7955e26df",
        "colab": {
          "base_uri": "https://localhost:8080/"
        }
      },
      "execution_count": null,
      "outputs": [
        {
          "output_type": "stream",
          "name": "stdout",
          "text": [
            "Addition result: 8\n"
          ]
        }
      ]
    },
    {
      "cell_type": "markdown",
      "source": [
        "# Importing libraries\n",
        "Libraries extend Python's capabilities."
      ],
      "metadata": {
        "id": "RemjjW77riU_"
      }
    },
    {
      "cell_type": "code",
      "source": [
        "# Math library\n",
        "# Provides access to mathematical functions.\n",
        "import math\n",
        "\n",
        "print(f\"Square root of 16: {math.sqrt(16)}\")\n",
        "print(f\"Factorial of 5: {math.factorial(5)}\")\n"
      ],
      "metadata": {
        "id": "rLfEHqYVrnOe",
        "outputId": "a614390a-4a94-4a86-8215-8bae037b6ed5",
        "colab": {
          "base_uri": "https://localhost:8080/"
        }
      },
      "execution_count": null,
      "outputs": [
        {
          "output_type": "stream",
          "name": "stdout",
          "text": [
            "Square root of 16: 4.0\n",
            "Factorial of 5: 120\n"
          ]
        }
      ]
    },
    {
      "cell_type": "markdown",
      "source": [
        "# Classes\n",
        "Classes are blueprints for creating objects. A class defines a set of attributes and methods."
      ],
      "metadata": {
        "id": "akuU985HrqIh"
      }
    },
    {
      "cell_type": "code",
      "source": [
        "# Defining a class\n",
        "class Dog:\n",
        "    # Class attribute\n",
        "    species = \"Canis familiaris\"\n",
        "\n",
        "    # Initializer / Instance attributes\n",
        "    def __init__(self, name, age):\n",
        "        self.name = name\n",
        "        self.age = age\n",
        "\n",
        "    # Instance method\n",
        "    def description(self):\n",
        "        return f\"{self.name} is {self.age} years old\"\n",
        "\n",
        "    # Another instance method\n",
        "    def speak(self, sound):\n",
        "        return f\"{self.name} says {sound}\""
      ],
      "metadata": {
        "id": "l7I4AH3_rtDj"
      },
      "execution_count": null,
      "outputs": []
    },
    {
      "cell_type": "code",
      "source": [
        "# Creating instances of the class\n",
        "dog1 = Dog(\"Buddy\", 3)\n",
        "dog2 = Dog(\"Lucy\", 4)"
      ],
      "metadata": {
        "id": "OTGqdJZPrvUA"
      },
      "execution_count": null,
      "outputs": []
    },
    {
      "cell_type": "code",
      "source": [
        "# Accessing class attributes and methods\n",
        "print(dog1.description())\n",
        "print(dog1.speak(\"Woof\"))\n",
        "print(dog2.description())\n",
        "print(dog2.speak(\"Bark\"))"
      ],
      "metadata": {
        "id": "qI8ipFGorxPp",
        "outputId": "eafcce39-9814-4c88-eacb-ba2d72dfe8ba",
        "colab": {
          "base_uri": "https://localhost:8080/"
        }
      },
      "execution_count": null,
      "outputs": [
        {
          "output_type": "stream",
          "name": "stdout",
          "text": [
            "Buddy is 3 years old\n",
            "Buddy says Woof\n",
            "Lucy is 4 years old\n",
            "Lucy says Bark\n"
          ]
        }
      ]
    },
    {
      "cell_type": "markdown",
      "source": [
        "# UMPIRE\n",
        "\n",
        "**Understand**\n",
        "Ask clarifying questions and use examples to understand what the interviewer wants out of this problem\n",
        "Choose a “happy path” test input, different than the one provided, and a few edge case inputs. Verify that you and the interviewer are aligned on the expected inputs and outputs.\n",
        "\n",
        "**Match**\n",
        "See if this problem matches a problem category (e.g. Strings/Arrays) and strategies or patterns within the category\n",
        "\n",
        "**Plan**\n",
        "Sketch visualizations and write pseudocode\n",
        "Walk through a high level implementation with an existing diagram\n",
        "\n",
        "**Implement**\n",
        "Implement the solution (make sure to know what level of detail the interviewer wants)\n",
        "\n",
        "**Review**\n",
        "Re-check that your algorithm solves the problem by running through important examples\n",
        "Go through it as if you are debugging it, assuming there is a bug\n",
        "\n",
        "**Evaluate**\n",
        "Finish by giving space and run-time complexity\n",
        "Discuss any pros and cons of the solution"
      ],
      "metadata": {
        "id": "knaesCqpbFCO"
      }
    },
    {
      "cell_type": "markdown",
      "source": [
        "# Time & Space Complexity\n",
        "\n",
        "\n",
        "\n",
        "\n",
        "\n",
        "\n",
        "![image_2024-07-13_192024638.png](data:image/png;base64,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)"
      ],
      "metadata": {
        "id": "Tql7IZgaY4kz"
      }
    },
    {
      "cell_type": "markdown",
      "source": [
        "Time complexity is a measure of the amount of time an algorithm takes to complete as a function of the size of the input. It helps us understand the efficiency of an algorithm. Usually you have a best, average and worst case but for the sake of measuring it for you code, we use the average case.\n",
        "\n",
        "Space complexity is a measure of the amount of memory an algorithm uses as a function of the size of the input. It helps us understand how much memory an algorithm will need."
      ],
      "metadata": {
        "id": "eAirp_cCav8r"
      }
    },
    {
      "cell_type": "code",
      "source": [
        "# @title Test Yourself: Try to answer the following for each fucntion/algorithm and check your answers at the end.\n",
        "\n",
        "def get_first_element(arr):\n",
        "    return arr[0]\n",
        "\n",
        "#What is the Time Complexity? Why?\n",
        "\n",
        "#What is the Space Complexity?"
      ],
      "metadata": {
        "id": "Q52XIrzUndLQ"
      },
      "execution_count": null,
      "outputs": []
    },
    {
      "cell_type": "code",
      "source": [
        "def binary_search(arr, target):\n",
        "    low, high = 0, len(arr) - 1\n",
        "    while low <= high:\n",
        "        mid = (low + high) // 2\n",
        "        if arr[mid] == target:\n",
        "            return mid\n",
        "        elif arr[mid] < target:\n",
        "            low = mid + 1\n",
        "        else:\n",
        "            high = mid - 1\n",
        "    return -1\n",
        "\n",
        "#What is the Time Complexity? Why?\n",
        "\n",
        "#What is the Space Complexity?"
      ],
      "metadata": {
        "id": "zAS25O_FndDU"
      },
      "execution_count": null,
      "outputs": []
    },
    {
      "cell_type": "code",
      "source": [
        "def another_example(n):\n",
        "    i = 1\n",
        "    while i < n:\n",
        "        i *= 2\n",
        "\n",
        "#What is the Time Complexity? Why?\n",
        "\n",
        "#What is the Space Complexity?"
      ],
      "metadata": {
        "id": "kMtJtaUec0cy"
      },
      "execution_count": null,
      "outputs": []
    },
    {
      "cell_type": "code",
      "source": [
        "def linear_search(arr, target):\n",
        "    for i in range(len(arr)):\n",
        "        if arr[i] == target:\n",
        "            return i\n",
        "    return -1\n",
        "\n",
        "#What is the Time Complexity? Why?\n",
        "\n",
        "#What is the Space Complexity?"
      ],
      "metadata": {
        "id": "VKqhv3ntncyw"
      },
      "execution_count": null,
      "outputs": []
    },
    {
      "cell_type": "code",
      "source": [
        "def merge_sort(arr):\n",
        "    if len(arr) > 1:\n",
        "        mid = len(arr) // 2\n",
        "        left_half = arr[:mid]\n",
        "        right_half = arr[mid:]\n",
        "\n",
        "        merge_sort(left_half)\n",
        "        merge_sort(right_half)\n",
        "\n",
        "        i = j = k = 0\n",
        "        while i < len(left_half) and j < len(right_half):\n",
        "            if left_half[i] < right_half[j]:\n",
        "                arr[k] = left_half[i]\n",
        "                i += 1\n",
        "            else:\n",
        "                arr[k] = right_half[j]\n",
        "                j += 1\n",
        "            k += 1\n",
        "\n",
        "        while i < len(left_half):\n",
        "            arr[k] = left_half[i]\n",
        "            i += 1\n",
        "            k += 1\n",
        "\n",
        "        while j < len(right_half):\n",
        "            arr[k] = right_half[j]\n",
        "            j += 1\n",
        "            k += 1\n",
        "\n",
        "#What is the Time Complexity? Why?\n",
        "\n",
        "#What is the Space Complexity?"
      ],
      "metadata": {
        "id": "Y5eui33qco4K"
      },
      "execution_count": null,
      "outputs": []
    },
    {
      "cell_type": "code",
      "source": [
        "def quick_sort(arr):\n",
        "    if len(arr) <= 1:\n",
        "        return arr\n",
        "    else:\n",
        "        pivot = arr[len(arr) // 2]\n",
        "        left = [x for x in arr if x < pivot]\n",
        "        middle = [x for x in arr if x == pivot]\n",
        "        right = [x for x in arr if x > pivot]\n",
        "        return quick_sort(left) + middle + quick_sort(right)\n",
        "\n",
        "#What is the Time Complexity? Why?\n",
        "\n",
        "#What is the Space Complexity?"
      ],
      "metadata": {
        "id": "aVPwWZaMiauc"
      },
      "execution_count": null,
      "outputs": []
    },
    {
      "cell_type": "code",
      "source": [
        "def bubble_sort(arr):\n",
        "    n = len(arr)\n",
        "    for i in range(n):\n",
        "        for j in range(0, n-i-1):\n",
        "            if arr[j] > arr[j+1]:\n",
        "                arr[j], arr[j+1] = arr[j+1], arr[j]\n",
        "\n",
        "#What is the Time Complexity? Why?\n",
        "\n",
        "#What is the Space Complexity?"
      ],
      "metadata": {
        "id": "xJa0E-UNcsG0"
      },
      "execution_count": null,
      "outputs": []
    },
    {
      "cell_type": "code",
      "source": [
        "def fibonacci(n):\n",
        "    if n <= 1:\n",
        "        return n\n",
        "    else:\n",
        "        return fibonacci(n-1) + fibonacci(n-2)\n",
        "\n",
        "#What is the Time Complexity? Why?\n",
        "\n",
        "#What is the Space Complexity? Why?"
      ],
      "metadata": {
        "id": "-DN5XlNIcuCG"
      },
      "execution_count": null,
      "outputs": []
    },
    {
      "cell_type": "markdown",
      "source": [
        "Answer Key:\n",
        "1. Get First Element\n",
        "\n",
        "    a. Time Complexity: O(1)\n",
        "\n",
        "    b. Space Complexity: O(1)\n",
        "2. Binary Search\n",
        "\n",
        "    a. Time Complexity:\n",
        "\n",
        "    b. Space Complexity: O(1)\n",
        "\n",
        "3. Another Example\n",
        "\n",
        "    a. Time Complexity: O(log(N))\n",
        "\n",
        "    b. Space Complexity: O(1)\n",
        "4. Linear Search  \n",
        "\n",
        "    a. Time Complexity: O(N)\n",
        "\n",
        "    b. Space Complexity: O(1)\n",
        "5. Merge Sort\n",
        "\n",
        "    a. Time Complexity: O(N * log(N))\n",
        "    \n",
        "    b. Space Complexity: O(N)\n",
        "6. Qucik Sort\n",
        "\n",
        "    a. Time Complexity: O(N * log(N))\n",
        "    \n",
        "    b. Space Complexity: O(log(N)) --> Recursion Stack\n",
        "7. Bubble Sort\n",
        "    a. Time Complexity: O(N^2)\n",
        "    \n",
        "    b. Space Complexity: O(1)\n",
        "8. Fibonnacci Numbers\n",
        "    a. Time Complexity: O(2^N)\n",
        "    \n",
        "    b. Space Complexity: O(N) --> Recursion Stack"
      ],
      "metadata": {
        "id": "kcKZAJS-k99k"
      }
    },
    {
      "cell_type": "markdown",
      "source": [
        "# Hash Tables\n",
        "A hash table (or hash map) is a data structure that implements an associative array abstract data type, a structure that can map keys to values. It uses a hash function to compute an index into an array of buckets or slots, from which the desired value can be found.\n",
        "\n",
        "In Python, hash tables are implemented as dictionaries (dict). They are built-in and provide fast insertion, deletion, and lookup."
      ],
      "metadata": {
        "id": "pQ1HNRbHdDLD"
      }
    },
    {
      "cell_type": "code",
      "source": [
        "#initialzing empty dicitonary\n",
        "my_dictionry = {}\n",
        "\n",
        "# Using curly braces\n",
        "my_dict1 = {\n",
        "    \"name\": \"Noely\",\n",
        "    \"age\": 21,\n",
        "    \"university\": \"Stony Brook University\"\n",
        "}\n"
      ],
      "metadata": {
        "id": "GS9qOnt_dR4X"
      },
      "execution_count": null,
      "outputs": []
    },
    {
      "cell_type": "code",
      "source": [
        "print(my_dict1[\"name\"])\n",
        "print(my_dict1[\"age\"])\n",
        "print(my_dict1[\"university\"])"
      ],
      "metadata": {
        "id": "lJKlzYBRdfj2",
        "outputId": "20a0c788-56ec-4496-eeaf-aca5a4649b2f",
        "colab": {
          "base_uri": "https://localhost:8080/"
        }
      },
      "execution_count": null,
      "outputs": [
        {
          "output_type": "stream",
          "name": "stdout",
          "text": [
            "Noely\n",
            "21\n",
            "Stony Brook University\n"
          ]
        }
      ]
    },
    {
      "cell_type": "code",
      "source": [
        "# Using the dict function\n",
        "my_dict = dict(name=\"Noely\", age=20, university=\"SBU\")"
      ],
      "metadata": {
        "id": "-pjA6vcMPfKa"
      },
      "execution_count": null,
      "outputs": []
    },
    {
      "cell_type": "code",
      "source": [
        "print(my_dict[\"name\"])\n",
        "print(my_dict[\"age\"])\n",
        "print(my_dict[\"university\"])"
      ],
      "metadata": {
        "id": "Po19YuIbPe96",
        "outputId": "a031d852-381a-4620-cd5d-33e13ae21507",
        "colab": {
          "base_uri": "https://localhost:8080/"
        }
      },
      "execution_count": null,
      "outputs": [
        {
          "output_type": "stream",
          "name": "stdout",
          "text": [
            "Noely\n",
            "20\n",
            "SBU\n"
          ]
        }
      ]
    },
    {
      "cell_type": "code",
      "source": [
        "comprehension_dict = {x: x * 2 for x in range(5)}  # Dictionary comprehension\n",
        "print(\"Comprehension Dict:\", comprehension_dict)"
      ],
      "metadata": {
        "id": "pwYZBTFcg8TE",
        "outputId": "03015cfd-aac4-4ead-d99c-fdfbffc3cbb5",
        "colab": {
          "base_uri": "https://localhost:8080/"
        }
      },
      "execution_count": null,
      "outputs": [
        {
          "output_type": "stream",
          "name": "stdout",
          "text": [
            "Comprehension Dict: {0: 0, 1: 2, 2: 4, 3: 6, 4: 8}\n"
          ]
        }
      ]
    },
    {
      "cell_type": "code",
      "source": [
        "# Adding a new key-value pair\n",
        "my_dict[\"major\"] = \"Computer Science\"\n",
        "\n",
        "# Updating an existing key-value pair\n",
        "my_dict[\"age\"] = 23\n",
        "\n",
        "print(my_dict[\"name\"])\n",
        "print(my_dict[\"age\"])\n",
        "print(my_dict[\"university\"])\n",
        "print(my_dict[\"major\"])"
      ],
      "metadata": {
        "id": "O14Eq7mudks8",
        "outputId": "3a73370b-caea-442e-e533-b24325e97e3e",
        "colab": {
          "base_uri": "https://localhost:8080/"
        }
      },
      "execution_count": null,
      "outputs": [
        {
          "output_type": "stream",
          "name": "stdout",
          "text": [
            "Noely\n",
            "23\n",
            "SBU\n",
            "Computer Science\n"
          ]
        }
      ]
    },
    {
      "cell_type": "code",
      "source": [
        "# Using del\n",
        "del my_dict[\"major\"]\n",
        "\n",
        "#print(my_dict[\"major\"])"
      ],
      "metadata": {
        "id": "rouUlaxodm25"
      },
      "execution_count": null,
      "outputs": []
    },
    {
      "cell_type": "code",
      "source": [
        "# Using pop\n",
        "age = my_dict.pop(\"age\")\n",
        "\n",
        "#print(my_dict[\"age\"])\n",
        "print(age)"
      ],
      "metadata": {
        "id": "zm33FVYXQdDM",
        "outputId": "3cb53545-2c15-4099-b0da-cec1f1970711",
        "colab": {
          "base_uri": "https://localhost:8080/"
        }
      },
      "execution_count": null,
      "outputs": [
        {
          "output_type": "stream",
          "name": "stdout",
          "text": [
            "23\n"
          ]
        }
      ]
    },
    {
      "cell_type": "code",
      "source": [
        "# Using clear\n",
        "my_dict.clear()\n",
        "print(my_dict)"
      ],
      "metadata": {
        "id": "b0EzjwZsQV9K",
        "outputId": "4a9bb610-0fb7-455d-ce38-e6f6dd0f1ae8",
        "colab": {
          "base_uri": "https://localhost:8080/"
        }
      },
      "execution_count": null,
      "outputs": [
        {
          "output_type": "stream",
          "name": "stdout",
          "text": [
            "{}\n"
          ]
        }
      ]
    },
    {
      "cell_type": "code",
      "source": [
        "# Iterating through keys\n",
        "for key in my_dict:\n",
        "    print(key, my_dict[key])"
      ],
      "metadata": {
        "id": "ibQx7aCqdpOK"
      },
      "execution_count": null,
      "outputs": []
    },
    {
      "cell_type": "code",
      "source": [
        "# Iterating through values\n",
        "for value in my_dict.values():\n",
        "    print(value)"
      ],
      "metadata": {
        "id": "PV18bdz8RJ-5"
      },
      "execution_count": null,
      "outputs": []
    },
    {
      "cell_type": "code",
      "source": [
        "# Iterating through key-value pairs\n",
        "items = my_dict.items()\n",
        "print(f\"{items}\\n\")\n",
        "\n",
        "for key, value in my_dict.items():\n",
        "    print(key, value)"
      ],
      "metadata": {
        "id": "wFxncZIyRJ1l",
        "outputId": "7bb59e70-c020-491a-b20c-0de06e4a814d",
        "colab": {
          "base_uri": "https://localhost:8080/"
        }
      },
      "execution_count": null,
      "outputs": [
        {
          "output_type": "stream",
          "name": "stdout",
          "text": [
            "dict_items([])\n",
            "\n"
          ]
        }
      ]
    },
    {
      "cell_type": "code",
      "source": [
        "#keys(): Returns a view object of all the keys.\n",
        "print(my_dict.keys())"
      ],
      "metadata": {
        "id": "CW026CYedvEn",
        "outputId": "594ab282-a94c-4be1-e960-04ceff388cb3",
        "colab": {
          "base_uri": "https://localhost:8080/"
        }
      },
      "execution_count": null,
      "outputs": [
        {
          "output_type": "stream",
          "name": "stdout",
          "text": [
            "dict_keys([])\n"
          ]
        }
      ]
    },
    {
      "cell_type": "code",
      "source": [
        "#values(): Returns a view object of all the values.\n",
        "print(my_dict.values())"
      ],
      "metadata": {
        "id": "coWpepjvd3Vu",
        "outputId": "d6681ddf-c126-4c5e-dc97-5d0c2a008507",
        "colab": {
          "base_uri": "https://localhost:8080/"
        }
      },
      "execution_count": null,
      "outputs": [
        {
          "output_type": "stream",
          "name": "stdout",
          "text": [
            "dict_values([])\n"
          ]
        }
      ]
    },
    {
      "cell_type": "code",
      "source": [
        "#items(): Returns a view object of all the key-value pairs.\n",
        "print(my_dict.items())"
      ],
      "metadata": {
        "id": "47ZHeHfbd4fB",
        "outputId": "4d0b4721-1bdd-47a4-b095-5e066729ed04",
        "colab": {
          "base_uri": "https://localhost:8080/"
        }
      },
      "execution_count": null,
      "outputs": [
        {
          "output_type": "stream",
          "name": "stdout",
          "text": [
            "dict_items([])\n"
          ]
        }
      ]
    },
    {
      "cell_type": "code",
      "source": [
        "#get(key, default): Returns the value for the key if the key is in the dictionary, else returns the default value.\n",
        "print(my_dict.get(\"name\", 0))\n",
        "print(my_dict.get(\"major\"))"
      ],
      "metadata": {
        "id": "ARONXl8Ad5Yh",
        "outputId": "97723464-ab92-4458-bbdd-01232667342d",
        "colab": {
          "base_uri": "https://localhost:8080/"
        }
      },
      "execution_count": null,
      "outputs": [
        {
          "output_type": "stream",
          "name": "stdout",
          "text": [
            "0\n",
            "None\n"
          ]
        }
      ]
    },
    {
      "cell_type": "code",
      "source": [
        "#Example: Create a function that counts how many times an element occurs in an array, stored in a dictionary.\n",
        "def count_frequencies(arr):\n",
        "    freq_dict = {}\n",
        "    for item in arr:\n",
        "        if item in freq_dict:\n",
        "            # If the item is already in the dictionary, increment its count\n",
        "            freq_dict[item] += 1\n",
        "        else:\n",
        "            # If the item is not in the dictionary, initialize its count to 1\n",
        "            freq_dict[item] = 1\n",
        "    return freq_dict"
      ],
      "metadata": {
        "id": "qgbKmPJIeV5H"
      },
      "execution_count": null,
      "outputs": []
    },
    {
      "cell_type": "code",
      "source": [
        "#run this cell to check your function\n",
        "arr = [\"apple\", \"banana\", \"apple\", \"orange\", \"banana\", \"apple\"]\n",
        "frequencies = count_frequencies(arr)\n",
        "print(frequencies)"
      ],
      "metadata": {
        "id": "uUcm6Fkte1dL",
        "outputId": "212662a7-42c2-4c8e-fd9a-2ae7fd9378c2",
        "colab": {
          "base_uri": "https://localhost:8080/"
        }
      },
      "execution_count": null,
      "outputs": [
        {
          "output_type": "stream",
          "name": "stdout",
          "text": [
            "{'apple': 3, 'banana': 2, 'orange': 1}\n"
          ]
        }
      ]
    },
    {
      "cell_type": "code",
      "source": [
        "#Lbrary to keep in mind  as it can simplify this process by automatically initializing missing keys with a default value:\n",
        "from collections import defaultdict\n",
        "initialzing_Default_Dictionary = defaultdict(int)"
      ],
      "metadata": {
        "id": "3X3JHpqOfpfr"
      },
      "execution_count": null,
      "outputs": []
    },
    {
      "cell_type": "code",
      "source": [
        "#Example: Create a function that counts how many times an element occurs in an array, stored in a dictionary. But now use the defaultdict library\n",
        "def count_frequencies(arr):\n",
        "    freq_dict = defaultdict(int)  # int() returns 0\n",
        "    for item in arr:\n",
        "        freq_dict[item] += 1\n",
        "    return freq_dict"
      ],
      "metadata": {
        "id": "_FXZFKG9f1VQ"
      },
      "execution_count": null,
      "outputs": []
    },
    {
      "cell_type": "markdown",
      "source": [
        "#Stacks & Queues\n",
        "\n",
        "Some operations to always keep in mind:\n",
        "1. Pop or popLeft\n",
        "2. Push or Enqueue\n",
        "3. Peek\n",
        "4. isEmpty\n",
        "\n",
        "##Stacks\n",
        "Stacks follow the LIFO (Last In, First Out) principle. The 3 operations are called push, pop, and peek.\n",
        "\n",
        "Think of a stack of books. You want to get the bottom book."
      ],
      "metadata": {
        "id": "8B_mPlUTsTaq"
      }
    },
    {
      "cell_type": "code",
      "source": [
        "# Using a list as a stack\n",
        "stack = []\n",
        "stack.append(1)  # Push\n",
        "stack.append(2)\n",
        "stack.append(3)\n",
        "\n",
        "print(\"Stack after pushes:\", stack)\n",
        "print(\"Pop from stack:\", stack.pop())  # Pop\n",
        "print(\"Stack after pop:\", stack)"
      ],
      "metadata": {
        "id": "qhx0m70gsxop",
        "outputId": "15629aa0-d637-477d-c8ab-b350fc5f9714",
        "colab": {
          "base_uri": "https://localhost:8080/"
        }
      },
      "execution_count": null,
      "outputs": [
        {
          "output_type": "stream",
          "name": "stdout",
          "text": [
            "Stack after pushes: [1, 2, 3]\n",
            "Pop from stack: 3\n",
            "Stack after pop: [1, 2]\n"
          ]
        }
      ]
    },
    {
      "cell_type": "code",
      "source": [
        "top_element = stack[-1]  # Peek the top element without removing it\n",
        "print(\"Top element:\", top_element)"
      ],
      "metadata": {
        "id": "qSfnF4AbbPWF",
        "outputId": "053cc6a3-afbd-4aad-f3ff-17f56cda0b9e",
        "colab": {
          "base_uri": "https://localhost:8080/"
        }
      },
      "execution_count": null,
      "outputs": [
        {
          "output_type": "stream",
          "name": "stdout",
          "text": [
            "Top element: 2\n"
          ]
        }
      ]
    },
    {
      "cell_type": "code",
      "source": [
        "is_empty = len(stack) == 0\n",
        "print(\"Is stack empty?\", is_empty)"
      ],
      "metadata": {
        "id": "i9eNtZmGbUCs",
        "outputId": "42fbf76e-3f15-4363-c107-6550e4a73fe8",
        "colab": {
          "base_uri": "https://localhost:8080/"
        }
      },
      "execution_count": null,
      "outputs": [
        {
          "output_type": "stream",
          "name": "stdout",
          "text": [
            "Is stack empty? False\n"
          ]
        }
      ]
    },
    {
      "cell_type": "code",
      "source": [
        "# @title Refer to documentation for deque() library: https://docs.python.org/fr/3/library/collections.html#deque-objects\n",
        "# Using the collections.deque for stack\n",
        "from collections import deque\n",
        "\n",
        "stack = deque()\n",
        "stack.append(1)  # Push\n",
        "stack.append(2)\n",
        "stack.append(3)\n",
        "\n",
        "print(\"Stack (deque) after pushes:\", stack)\n",
        "print(\"Pop from stack (deque):\", stack.pop())  # Pop\n",
        "print(\"Stack (deque) after pop:\", stack)"
      ],
      "metadata": {
        "id": "pACQUyHJsz3D",
        "outputId": "902c8b7c-98d0-4a29-d316-bf3204af11e9",
        "colab": {
          "base_uri": "https://localhost:8080/"
        }
      },
      "execution_count": null,
      "outputs": [
        {
          "output_type": "stream",
          "name": "stdout",
          "text": [
            "Stack (deque) after pushes: deque([1, 2, 3])\n",
            "Pop from stack (deque): 3\n",
            "Stack (deque) after pop: deque([1, 2])\n"
          ]
        }
      ]
    },
    {
      "cell_type": "code",
      "source": [
        "def is_balanced(expression):\n",
        "    stack = []\n",
        "    matching_parentheses = {')': '(', ']': '[', '}': '{'}\n",
        "\n",
        "    for char in expression:\n",
        "        if char in matching_parentheses.values():\n",
        "            stack.append(char)\n",
        "        elif char in matching_parentheses.keys():\n",
        "            if not stack or stack.pop() != matching_parentheses[char]:\n",
        "                return False\n",
        "\n",
        "    return not stack\n",
        "\n",
        "# Example usage\n",
        "expression = \"{[()()]}\"\n",
        "print(f\"Is the expression {expression} balanced? {is_balanced(expression)}\")\n",
        "expression = \"{[(])}\"\n",
        "print(f\"Is the expression {expression} balanced? {is_balanced(expression)}\")\n"
      ],
      "metadata": {
        "id": "kY5IkTXAa_ks",
        "outputId": "7d17c541-5193-4d5f-b01e-5d5d3b7acf1e",
        "colab": {
          "base_uri": "https://localhost:8080/"
        }
      },
      "execution_count": null,
      "outputs": [
        {
          "output_type": "stream",
          "name": "stdout",
          "text": [
            "Is the expression {[()()]} balanced? True\n",
            "Is the expression {[(])} balanced? False\n"
          ]
        }
      ]
    },
    {
      "cell_type": "markdown",
      "source": [
        "##Evaluating Post-Order and In-Order Expressions using Stacks\n",
        "\n",
        "###Motivation\n",
        "Consider the following espression:\n",
        "\n",
        "\n",
        "\n",
        "```\n",
        "4 * 1.1 + 5 + 6 * 1.1\n",
        "```\n",
        "\n",
        "\n",
        "\n",
        "If we type this stright into a calulator, it won't follow PEMDAS and it will give us the wrong answer since there are no parentheses. We get 16.94 which is wrong!\n",
        "\n",
        "\n",
        "We know we need to priortiese multiplication and then add the products, giving us 16.\n",
        "\n",
        "\n",
        "We have to find a way to apply operator priorties without using parentheses. We call this **postfix notation**.\n",
        "\n",
        "\n",
        "\n",
        "```\n",
        "4  1.1  * 5 +  6  1.1  *  +\n",
        "```\n",
        "\n",
        "\n",
        "4 and 1.1 get mulitpled, added to five, 6 and 1.1 get multiplied and then that product gets addded to the remaining expression.\n",
        "\n",
        "\n",
        "A **postfix expression** is an expression in which the operator follows their operands. For example, A B + is a postfix expression of A + B\n",
        "\n",
        "\n",
        "A **prefix expression** is an expression in which the operator precedes their operands. For example, + A B is a prefix expression of A + B.\n",
        "\n",
        "```\n",
        "+ + * 4 1.1 5 * 6 1.1\n",
        "```\n",
        "\n",
        "##Real World Applications\n",
        "1. Compilers and Interpreters:\n",
        "\n",
        "Expression Evaluation:\n",
        "1. Prefix (Polish notation) and Postfix (Reverse Polish notation) are used in compilers to evaluate expressions without the need for parentheses to dictate operator precedence.\n",
        "2. Simplifies parsing expressions and generating machine code for arithmetic operations.\n",
        "\n",
        "Syntax Trees:\n",
        "1. Abstract Syntax Trees (ASTs) represent the syntactic structure of source code.\n",
        "2. Tree traversals are used to analyze, optimize, and generate code.\n",
        "\n",
        "Mathematical Computations:\n",
        "1. Symbolic Computation: Computer algebra systems (CAS)\n",
        "use expression trees to manipulate and evaluate symbolic expressions.\n",
        "2. Tree traversal methods help in simplification, differentiation, and integration of mathematical expressions.\n",
        "\n",
        "Encryption in Cybersecurity\n",
        "1. Traversals can be used to encrypt important information.\n"
      ],
      "metadata": {
        "id": "B6Yl_eYfGC0T"
      }
    },
    {
      "cell_type": "markdown",
      "source": [
        "\n",
        "##Evaluating Postfix\n",
        "1. Start reading the input\n",
        "2. When an operand (number) has been read, push it to the stack\n",
        "3. When an operator is read, pop from the stack twice and apply the operator to those two operands.\n",
        "4. Push the result onto the stack\n",
        "5. When we are done reading the input, the stack should only have one element, which is the answer"
      ],
      "metadata": {
        "id": "ggtB8uwCN8oP"
      }
    },
    {
      "cell_type": "code",
      "source": [
        "def evaluate_postfix(expression):\n",
        "    stack = []\n",
        "    tokens = expression.split()\n",
        "\n",
        "    for token in tokens:\n",
        "        if token.replace('.', '', 1).isdigit():  # Check if token is a number (handles floating point numbers)\n",
        "            stack.append(float(token))\n",
        "        else:\n",
        "            operand2 = stack.pop()\n",
        "            operand1 = stack.pop()\n",
        "\n",
        "            if token == '+':\n",
        "                stack.append(operand1 + operand2)\n",
        "            elif token == '-':\n",
        "                stack.append(operand1 - operand2)\n",
        "            elif token == '*':\n",
        "                stack.append(operand1 * operand2)\n",
        "            elif token == '/':\n",
        "                stack.append(operand1 / operand2)\n",
        "\n",
        "    return stack[0]  # The result should be the only element in the stack"
      ],
      "metadata": {
        "id": "xYCjbrbvKKEG"
      },
      "execution_count": null,
      "outputs": []
    },
    {
      "cell_type": "code",
      "source": [
        "# Example usage\n",
        "postfix_expr = \"4 1.1 * 5 + 6 1.1 * +\"\n",
        "result = evaluate_postfix(postfix_expr)\n",
        "print(f\"Result of postfix expression '{postfix_expr}': {result}\") #should be 16"
      ],
      "metadata": {
        "colab": {
          "base_uri": "https://localhost:8080/"
        },
        "id": "sxIVMz2BLeTG",
        "outputId": "05dc7ca1-6c46-49b2-df87-b8fddec744cb"
      },
      "execution_count": null,
      "outputs": [
        {
          "output_type": "stream",
          "name": "stdout",
          "text": [
            "Result of postfix expression '4 1.1 * 5 + 6 1.1 * +': 16.0\n"
          ]
        }
      ]
    },
    {
      "cell_type": "markdown",
      "source": [
        "##Evaluating Prefix\n",
        "1. Start reading the input from right to left\n",
        "2. This is similar to the postfix evaluation, but we push operands immediately as we encounter them while reading from right to left.\n",
        "3. When an operator is read, pop from the stack twice and apply the operator to those two operands:\n",
        "4. The first operand popped will be the right operand, and the second one will be the left operand because we're reading from right to left.\n",
        "5. Push the result onto the stack.\n",
        "6. When we are done reading the input, the stack should only have one element, which is the answer."
      ],
      "metadata": {
        "id": "eTGhkB4yLKwv"
      }
    },
    {
      "cell_type": "code",
      "source": [
        "def evaluate_prefix(expression):\n",
        "    stack = []\n",
        "    tokens = expression.split()\n",
        "\n",
        "    # Traverse the tokens from right to left\n",
        "    for token in reversed(tokens):\n",
        "        if token.replace('.', '', 1).isdigit():  # Check if token is a number (handles floating point numbers)\n",
        "            stack.append(float(token))\n",
        "        else:\n",
        "            operand1 = stack.pop()\n",
        "            operand2 = stack.pop()\n",
        "\n",
        "            if token == '+':\n",
        "                stack.append(operand1 + operand2)\n",
        "            elif token == '-':\n",
        "                stack.append(operand1 - operand2)\n",
        "            elif token == '*':\n",
        "                stack.append(operand1 * operand2)\n",
        "            elif token == '/':\n",
        "                stack.append(operand1 / operand2)\n",
        "\n",
        "    return stack[0]  # The result should be the only element in the stack"
      ],
      "metadata": {
        "id": "QN7EwQEdLLxi"
      },
      "execution_count": null,
      "outputs": []
    },
    {
      "cell_type": "code",
      "source": [
        "# Example usage\n",
        "prefix_expr = \"+ + * 4 1.1 5 * 6 1.1\"\n",
        "result = evaluate_prefix(prefix_expr)\n",
        "print(f\"Result of prefix expression '{prefix_expr}': {result}\") #Shiuld be 16"
      ],
      "metadata": {
        "colab": {
          "base_uri": "https://localhost:8080/"
        },
        "id": "IxRGqLVpL16J",
        "outputId": "0368fc87-1c3e-4745-822b-9a620ce7cef8"
      },
      "execution_count": null,
      "outputs": [
        {
          "output_type": "stream",
          "name": "stdout",
          "text": [
            "Result of prefix expression '+ + * 4 1.1 5 * 6 1.1': 16.0\n"
          ]
        }
      ]
    },
    {
      "cell_type": "markdown",
      "source": [
        "##Connection to Tree Traversals\n",
        "1. Pre-order Traversal: Visit the root node, then the left subtree, and finally the right subtree. This produces a prefix expression.\n",
        "\n",
        "2. Post-order Traversal: Visit the left subtree, then the right subtree, and finally the root node. This produces a postfix expression.\n",
        "\n"
      ],
      "metadata": {
        "id": "RraD-8oPL-Ft"
      }
    },
    {
      "cell_type": "code",
      "source": [
        " #This tree is storing the expression (4 * 1.1) + (5 + (6 * 1.1))\n",
        "        +\n",
        "       / \\\n",
        "     *    +\n",
        "    / \\  / \\\n",
        "   4  1.1 5 *\n",
        "           / \\\n",
        "          6  1.1\n",
        "\n",
        "# What happens when we traverse it using post-order and pre-order ?\n",
        "'''\n",
        "Pre-order (Prefix) Traversal\n",
        "Visit +\n",
        "Visit left subtree: * 4 1.1\n",
        "Visit right subtree: + 5 * 6 1.1\n",
        "Result: + * 4 1.1 + 5 * 6 1.1\n",
        "\n",
        "Post-order (Postfix) Traversal\n",
        "Visit left subtree: 4 1.1 *\n",
        "Visit right subtree: 5 6 1.1 * +\n",
        "Visit +\n",
        "Result: 4 1.1 * 5 6 1.1 * +\n",
        "'''"
      ],
      "metadata": {
        "id": "A3ZvMer7MSLd"
      },
      "execution_count": null,
      "outputs": []
    },
    {
      "cell_type": "markdown",
      "source": [
        "## Queues\n",
        "\n",
        "Queues follow the FIFO (First In, First Out) principle. The 3 operations are called enqueue, dequeue, and append.\n",
        "\n",
        "Think of the line at the coffee shop\n"
      ],
      "metadata": {
        "id": "3QKFV11SqsqY"
      }
    },
    {
      "cell_type": "code",
      "source": [
        "# Using a list as a queue\n",
        "queue = []\n",
        "queue.append(1)  # Enqueue\n",
        "queue.append(2)\n",
        "queue.append(3)\n",
        "print(\"Queue after enqueues:\", queue)\n",
        "\n",
        "print(\"Dequeue from queue:\", queue.pop(0))  # Dequeue\n",
        "print(\"Queue after dequeue:\", queue)"
      ],
      "metadata": {
        "id": "493BuxD-s2HR",
        "outputId": "6e0959fe-e147-453a-d3ae-1f1954ca1e7d",
        "colab": {
          "base_uri": "https://localhost:8080/"
        }
      },
      "execution_count": null,
      "outputs": [
        {
          "output_type": "stream",
          "name": "stdout",
          "text": [
            "Queue after enqueues: [1, 2, 3]\n",
            "Dequeue from queue: 1\n",
            "Queue after dequeue: [2, 3]\n"
          ]
        }
      ]
    },
    {
      "cell_type": "code",
      "source": [
        "is_empty = len(queue) == 0 # Check if the queue is empty\n",
        "print(\"Is queue empty?\", is_empty)"
      ],
      "metadata": {
        "id": "y1nK1VWVgiaa",
        "outputId": "4db16ada-5e16-457b-f042-2f86c3fc5fe9",
        "colab": {
          "base_uri": "https://localhost:8080/"
        }
      },
      "execution_count": null,
      "outputs": [
        {
          "output_type": "stream",
          "name": "stdout",
          "text": [
            "Is queue empty? False\n"
          ]
        }
      ]
    },
    {
      "cell_type": "code",
      "source": [
        "# @title Refer to documentation for deque() library: https://docs.python.org/fr/3/library/collections.html#deque-objects\n",
        "from collections import deque"
      ],
      "metadata": {
        "id": "rJJFVaB9hCuK"
      },
      "execution_count": null,
      "outputs": []
    },
    {
      "cell_type": "code",
      "source": [
        "# Using the collections.deque for queue\n",
        "queue = deque() # deque = double ended queue\n",
        "queue.append(1)  # Enqueue\n",
        "queue.append(2)\n",
        "queue.append(3)\n",
        "print(\"Queue (deque) after enqueues:\", queue)\n",
        "\n",
        "print(\"Dequeue from queue (deque):\", queue.popleft())  # Dequeue\n",
        "print(\"Queue (deque) after dequeue:\", queue)"
      ],
      "metadata": {
        "id": "5dCXu5xas4G1",
        "outputId": "5e84d65b-427f-4bbb-a45b-9ff99048c491",
        "colab": {
          "base_uri": "https://localhost:8080/"
        }
      },
      "execution_count": null,
      "outputs": [
        {
          "output_type": "stream",
          "name": "stdout",
          "text": [
            "Queue (deque) after enqueues: deque([1, 2, 3])\n",
            "Dequeue from queue (deque): 1\n",
            "Queue (deque) after dequeue: deque([2, 3])\n"
          ]
        }
      ]
    },
    {
      "cell_type": "code",
      "source": [
        "# Peek the front element\n",
        "if len(queue) > 0:\n",
        "    front_element = queue[0]\n",
        "    print(\"Front element:\", front_element)\n",
        "else:\n",
        "    print(\"Queue is empty.\")"
      ],
      "metadata": {
        "id": "fhB7FTCOgstj",
        "outputId": "fd95e515-5abb-49ac-a35f-72527aa81e07",
        "colab": {
          "base_uri": "https://localhost:8080/"
        }
      },
      "execution_count": null,
      "outputs": [
        {
          "output_type": "stream",
          "name": "stdout",
          "text": [
            "Front element: 2\n"
          ]
        }
      ]
    },
    {
      "cell_type": "code",
      "source": [
        "# Check if the queue is empty\n",
        "is_empty = len(queue) == 0\n",
        "print(\"Is queue empty?\", is_empty)"
      ],
      "metadata": {
        "id": "rmAjRkhQguX-",
        "outputId": "12a5320a-1f7c-4146-fecd-607c1cead131",
        "colab": {
          "base_uri": "https://localhost:8080/"
        }
      },
      "execution_count": null,
      "outputs": [
        {
          "output_type": "stream",
          "name": "stdout",
          "text": [
            "Is queue empty? False\n"
          ]
        }
      ]
    },
    {
      "cell_type": "code",
      "source": [
        "#Example: At the coffee shop\n",
        "from collections import deque\n",
        "\n",
        "# Initialize the queue\n",
        "coffee_shop_queue = deque()\n",
        "\n",
        "# Function to add a customer to the coffee shop queue\n",
        "def add_customer(customer_name):\n",
        "    coffee_shop_queue.append(customer_name)\n",
        "    print(f\"{customer_name} has entered the coffee shop queue.\")\n",
        "\n",
        "# Function to serve a customer\n",
        "def serve_customer():\n",
        "    if coffee_shop_queue:\n",
        "        customer = coffee_shop_queue.popleft()\n",
        "        print(f\"{customer} has been served and left the coffee shop.\")\n",
        "    else:\n",
        "        print(\"No customers to serve.\")\n",
        "\n",
        "# Function to view the next customer to be served\n",
        "def view_next_customer():\n",
        "    if coffee_shop_queue:\n",
        "        return coffee_shop_queue[0]\n",
        "    else:\n",
        "        return \"No customers in line.\""
      ],
      "metadata": {
        "id": "fMh7MbnShtL3"
      },
      "execution_count": null,
      "outputs": []
    },
    {
      "cell_type": "code",
      "source": [
        "# Example usage\n",
        "add_customer(\"Noely\")\n",
        "add_customer(\"Jin\")\n",
        "add_customer(\"Adam\")\n",
        "\n",
        "print(\"Next customer:\", view_next_customer())"
      ],
      "metadata": {
        "id": "4xrMYukEh9fK",
        "outputId": "5fdbc6d9-4297-4cb1-b9fd-f4aa4b553c66",
        "colab": {
          "base_uri": "https://localhost:8080/"
        }
      },
      "execution_count": null,
      "outputs": [
        {
          "output_type": "stream",
          "name": "stdout",
          "text": [
            "Noely has entered the coffee shop queue.\n",
            "Jin has entered the coffee shop queue.\n",
            "Adam has entered the coffee shop queue.\n",
            "Next customer: Noely\n"
          ]
        }
      ]
    },
    {
      "cell_type": "code",
      "source": [
        "serve_customer()\n",
        "serve_customer()\n",
        "serve_customer()\n",
        "\n",
        "print(\"Next customer:\", view_next_customer())"
      ],
      "metadata": {
        "id": "_mmt_CR3iEnX",
        "outputId": "4ab4a3c2-faa9-4d92-c4c3-e0bfcf073e70",
        "colab": {
          "base_uri": "https://localhost:8080/"
        }
      },
      "execution_count": null,
      "outputs": [
        {
          "output_type": "stream",
          "name": "stdout",
          "text": [
            "Noely has been served and left the coffee shop.\n",
            "Jin has been served and left the coffee shop.\n",
            "Adam has been served and left the coffee shop.\n",
            "Next customer: No customers in line.\n"
          ]
        }
      ]
    },
    {
      "cell_type": "markdown",
      "source": [
        "# Heaps\n",
        "\n",
        "A heap is a specialized tree-based data structure that satisfies the heap property. There are two types of heaps:\n",
        "\n",
        "1. **Max Heap**: In a max heap, for any given node I, the value of I is greater than or equal to the values of its children.\n",
        "\n",
        "2. **Min Heap**: In a min heap, for any given node I, the value of I is less than or equal to the values of its children.\n",
        "\n",
        "## Properties of Heaps\n",
        "\n",
        "1. **Complete Binary Tree**: Heaps are complete binary trees, meaning all levels of the tree are fully filled except possibly for the last level, which is filled from left to right.\n",
        "\n",
        "2. **Heap Property**: The heap property must be maintained to ensure that the tree structure is either a max heap or a min heap.\n",
        "\n",
        "##Operations on Heaps\n",
        "1. **Insertion**: Adding a new element to the heap.\n",
        "2. **Deletion**: Removing the root element (maximum for max heap, minimum for min heap).\n",
        "3. **Heapify**: Restoring the heap property after insertion or deletion."
      ],
      "metadata": {
        "id": "6td-y044rZZo"
      }
    },
    {
      "cell_type": "code",
      "source": [
        "#Python provides a heapq module that supports heap operations. By default, it implements a min heap.\n",
        "import heapq"
      ],
      "metadata": {
        "id": "3vYMIwfQra2M"
      },
      "execution_count": null,
      "outputs": []
    },
    {
      "cell_type": "code",
      "source": [
        "# Create an empty heap\n",
        "min_heap = []\n",
        "\n",
        "# Insert elements into the heap\n",
        "heapq.heappush(min_heap, 10)\n",
        "heapq.heappush(min_heap, 30)\n",
        "heapq.heappush(min_heap, 20)\n",
        "heapq.heappush(min_heap, 5)\n",
        "\n",
        "# Print the heap\n",
        "print(\"Min Heap:\", min_heap)"
      ],
      "metadata": {
        "id": "JWOT8UJQrbGZ",
        "outputId": "1d9a652a-3717-4f3a-ba84-be87d358ac75",
        "colab": {
          "base_uri": "https://localhost:8080/"
        }
      },
      "execution_count": null,
      "outputs": [
        {
          "output_type": "stream",
          "name": "stdout",
          "text": [
            "Min Heap: [5, 10, 20, 30]\n"
          ]
        }
      ]
    },
    {
      "cell_type": "code",
      "source": [
        "# Pop the smallest element\n",
        "print(\"Popped element:\", heapq.heappop(min_heap))\n",
        "\n",
        "# Print the heap after popping\n",
        "print(\"Min Heap after pop:\", min_heap)"
      ],
      "metadata": {
        "id": "7X-2cEj5rbUE",
        "outputId": "468ed685-0895-4ac0-8c24-831fb0dfcbc9",
        "colab": {
          "base_uri": "https://localhost:8080/"
        }
      },
      "execution_count": null,
      "outputs": [
        {
          "output_type": "stream",
          "name": "stdout",
          "text": [
            "Popped element: 5\n",
            "Min Heap after pop: [10, 30, 20]\n"
          ]
        }
      ]
    },
    {
      "cell_type": "code",
      "source": [
        "# Create an empty heap\n",
        "max_heap = []\n",
        "\n",
        "# Insert elements into the heap (invert the values)\n",
        "heapq.heappush(max_heap, -10)\n",
        "heapq.heappush(max_heap, -30)\n",
        "heapq.heappush(max_heap, -20)\n",
        "heapq.heappush(max_heap, -5)\n",
        "\n",
        "# Print the heap (invert the values back to original)\n",
        "print(\"Max Heap:\", [-x for x in max_heap])\n",
        "print(\"Max Heap:\", max_heap)"
      ],
      "metadata": {
        "id": "I-U77vzOxDr0",
        "outputId": "7cc31eb8-10b9-4071-b7c1-b6ad4d80eab6",
        "colab": {
          "base_uri": "https://localhost:8080/"
        }
      },
      "execution_count": null,
      "outputs": [
        {
          "output_type": "stream",
          "name": "stdout",
          "text": [
            "Max Heap: [30, 10, 20, 5]\n",
            "Max Heap: [-30, -10, -20, -5]\n"
          ]
        }
      ]
    },
    {
      "cell_type": "code",
      "source": [
        "# Pop the largest element (invert the value back to original)\n",
        "print(\"Popped element:\", -heapq.heappop(max_heap))\n",
        "\n",
        "# Print the heap after popping (invert the values back to original)\n",
        "print(\"Max Heap after pop:\", [-x for x in max_heap])"
      ],
      "metadata": {
        "id": "niVKlHNBxMbw",
        "outputId": "1d25b8e5-2f8d-4f48-ece3-191e7cdfffd8",
        "colab": {
          "base_uri": "https://localhost:8080/"
        }
      },
      "execution_count": null,
      "outputs": [
        {
          "output_type": "stream",
          "name": "stdout",
          "text": [
            "Popped element: 30\n",
            "Max Heap after pop: [20, 10, 5]\n"
          ]
        }
      ]
    },
    {
      "cell_type": "markdown",
      "source": [
        "## Heapify\n",
        "\n",
        "Heapify is the process of converting a binary tree into a heap. It ensures that the heap property is maintained throughout the tree. Heapify can be used to build a heap from an unsorted array or to maintain the heap property after an element is inserted or removed."
      ],
      "metadata": {
        "id": "CMQ5xQ0Cr8_T"
      }
    },
    {
      "cell_type": "code",
      "source": [
        "#The heapq.heapify function transforms a given list into a min heap in-place, meaning it modifies the list directly without creating a new list.\n",
        "# Regular list\n",
        "data = [10, 20, 5, 7, 9, 1, 8]\n",
        "\n",
        "# Convert list to min heap\n",
        "heapq.heapify(data)\n",
        "\n",
        "# Print the heap\n",
        "print(\"Min Heap:\", data)"
      ],
      "metadata": {
        "id": "ISswo5nfxdMq",
        "outputId": "de047e4d-7060-4887-d3d0-0f3463043f19",
        "colab": {
          "base_uri": "https://localhost:8080/"
        }
      },
      "execution_count": null,
      "outputs": [
        {
          "output_type": "stream",
          "name": "stdout",
          "text": [
            "Min Heap: [1, 7, 5, 20, 9, 10, 8]\n"
          ]
        }
      ]
    },
    {
      "cell_type": "code",
      "source": [
        "# Regular list\n",
        "data = [10, 20, 5, 7, 9, 1, 8]\n",
        "\n",
        "# Convert list to max heap by inserting negative values\n",
        "data = [-i for i in data]\n",
        "heapq.heapify(data)\n",
        "\n",
        "# Print the heap (convert back to positive for display)\n",
        "print(\"Max Heap:\", [-i for i in data])"
      ],
      "metadata": {
        "id": "bfiCnqf47_T2",
        "outputId": "ed46772c-a8b9-4762-a0d7-d2963a6e14e2",
        "colab": {
          "base_uri": "https://localhost:8080/"
        }
      },
      "execution_count": null,
      "outputs": [
        {
          "output_type": "stream",
          "name": "stdout",
          "text": [
            "Max Heap: [20, 10, 8, 7, 9, 1, 5]\n"
          ]
        }
      ]
    },
    {
      "cell_type": "markdown",
      "source": [
        "# Linked Lists\n",
        "Linked lists are collections of nodes where each node points to the next node.\n",
        "\n",
        "Different Types:\n",
        "1. Singly\n",
        "2. Doubly\n",
        "3. Circular\n",
        "\n",
        "Importnt Operations:\n",
        "1. Add\n",
        "2. Remove\n",
        "3. Search\n",
        "4. Traversal\n",
        "\n",
        "\n",
        "\n"
      ],
      "metadata": {
        "id": "OrV6raCasJiG"
      }
    },
    {
      "cell_type": "code",
      "source": [
        "#Linked lists are made up of nodes with a value and a reference to the next node if it is a singly linked list\n",
        "class Node:\n",
        "    def __init__(self, val=None):\n",
        "        self.val = val\n",
        "        self.next = None\n"
      ],
      "metadata": {
        "id": "zlDr3mM-YBYF"
      },
      "execution_count": null,
      "outputs": []
    },
    {
      "cell_type": "code",
      "source": [
        "#Doubly Linked lists are made up of nodes with a value and a reference to the next node and previous nodes\n",
        "class Node:\n",
        "    def __init__(self, val=None):\n",
        "        self.val = val\n",
        "        self.next = None\n",
        "        self.prev = None"
      ],
      "metadata": {
        "id": "M4rou8uNOe2s"
      },
      "execution_count": null,
      "outputs": []
    },
    {
      "cell_type": "code",
      "source": [
        "class LinkedList:\n",
        "    def __init__(self):\n",
        "        self.head = Node()  # Sentinel node declaration"
      ],
      "metadata": {
        "id": "SWIo6G5HQ-bL"
      },
      "execution_count": null,
      "outputs": []
    },
    {
      "cell_type": "markdown",
      "source": [
        "##Purpose of Sentinel Nodes:\n",
        "1.**Simplify Edge Cases**: Sentinel nodes help to handle edge cases, such as insertion and deletion at the head or tail of the list, more uniformly.\n",
        "2.**Avoid Null Checks**: With sentinel nodes, you often avoid additional checks for null pointers, making the code cleaner and less error-prone."
      ],
      "metadata": {
        "id": "zFnKMz8fLLIa"
      }
    },
    {
      "cell_type": "code",
      "source": [
        "#Adding to a Linked List to the start of a Linked List without a Sentinnel Node\n",
        "def add(head, val):\n",
        "    new_node = Node(val)\n",
        "    new_node.next = head\n",
        "    head = new_node\n",
        "\n",
        "\n",
        "#Adding to a Linked List to the start of a Linked List with a Sentinnel Node\n",
        "def add_Sentinnel(head, data):\n",
        "    new_node = Node(data)\n",
        "    new_node.next = head.next\n",
        "    head.next = new_node"
      ],
      "metadata": {
        "id": "ynUU8JfhI92S"
      },
      "execution_count": null,
      "outputs": []
    },
    {
      "cell_type": "code",
      "source": [
        "#Adding to a Linked List to the end of a Linked List without a Sentinnel Node\n",
        "def add_at_end(head, data):\n",
        "    new_node = Node(data)\n",
        "    if not head:\n",
        "        return new_node  # New head of the list\n",
        "\n",
        "    current = head\n",
        "    while current.next:\n",
        "        current = current.next\n",
        "    current.next = new_node\n",
        "\n",
        "\n",
        "#Adding to a Linked List to the end of a Linked List with a Sentinnel Node\n",
        "def add_at_end_Sentinnel(head, data):\n",
        "    new_node = Node(data)\n",
        "\n",
        "    current = head\n",
        "    while current.next:\n",
        "        current = current.next\n",
        "    current.next = new_node"
      ],
      "metadata": {
        "id": "3XgE7S9mJNfG"
      },
      "execution_count": null,
      "outputs": []
    },
    {
      "cell_type": "code",
      "source": [
        "#Deleting a Node by its value without a Sentinnel Node\n",
        "\n",
        "def delete_node(head, key):\n",
        "    # Handle the case where the head itself needs to be deleted\n",
        "    if head and head.val == key:\n",
        "        return head.next\n",
        "\n",
        "    current = head\n",
        "\n",
        "    while current.next and current.next.val != key:\n",
        "        current = current.next\n",
        "\n",
        "    if current.next:\n",
        "        current.next = current.next.next\n",
        "\n",
        "#Deleting a Node by its value with a Sentinnel Node\n",
        "def delete_node_Sentinnel(head, key):\n",
        "    current = head\n",
        "\n",
        "    while current.next and current.next.val != key:\n",
        "        current = current.next\n",
        "\n",
        "    if current.next:\n",
        "        current.next = current.next.next"
      ],
      "metadata": {
        "id": "xlceXi_RJjvm"
      },
      "execution_count": null,
      "outputs": []
    },
    {
      "cell_type": "code",
      "source": [
        "#Search function check if a Node with certain value exists without a Sentinnel Node\n",
        "def search_node(head, key):\n",
        "    current = head\n",
        "    while current:\n",
        "        if current.val == key:\n",
        "            return True\n",
        "        current = current.next\n",
        "    return False\n",
        "\n",
        "#Search function check if a Node with certain value exists with a Sentinnel Node\n",
        "def search_node_Sent(head, key):\n",
        "    current = head.next  # Skip the sentinel node\n",
        "    while current:\n",
        "        if current.val == key:\n",
        "            return True\n",
        "        current = current.next\n",
        "    return False\n"
      ],
      "metadata": {
        "id": "QeRp1Ck0KZX_"
      },
      "execution_count": null,
      "outputs": []
    },
    {
      "cell_type": "code",
      "source": [
        "#Traversing A Linked List without a Sentinnel Node\n",
        "def traverse(head):\n",
        "    current = head\n",
        "    while current:\n",
        "        print(current.val, end=\" -> \")\n",
        "        current = current.next\n",
        "    print(\"None\")\n",
        "\n",
        "#Traversing A Linked List with a Sentinnel Node\n",
        "def traverse_Sent(head):\n",
        "    current = head.next  # Skip the sentinel node\n",
        "    while current:\n",
        "        print(current.val, end=\" -> \")\n",
        "        current = current.next\n",
        "    print(\"None\")"
      ],
      "metadata": {
        "id": "R5awlDFyTLTp"
      },
      "execution_count": null,
      "outputs": []
    },
    {
      "cell_type": "code",
      "source": [
        "# Create a linked list with a sentinel node\n",
        "linked_list = LinkedList()\n",
        "head = linked_list.head\n",
        "\n",
        "# Insert elements at the beginning\n",
        "add_Sentinnel(head, 3)\n",
        "add_Sentinnel(head, 2)\n",
        "add_Sentinnel(head, 1)\n",
        "\n",
        "print(\"List after inserting 1, 2, 3 at the beginning:\")\n",
        "traverse_Sent(head)"
      ],
      "metadata": {
        "id": "0lCceXVOUPaW",
        "outputId": "e8762f3c-dc21-44db-957e-136e545fe42b",
        "colab": {
          "base_uri": "https://localhost:8080/"
        }
      },
      "execution_count": null,
      "outputs": [
        {
          "output_type": "stream",
          "name": "stdout",
          "text": [
            "List after inserting 1, 2, 3 at the beginning:\n",
            "1 -> 2 -> 3 -> None\n"
          ]
        }
      ]
    },
    {
      "cell_type": "code",
      "source": [
        "# Insert elements at the end\n",
        "add_at_end_Sentinnel(head, 4)\n",
        "add_at_end_Sentinnel(head, 5)\n",
        "\n",
        "print(\"List after inserting 4, 5 at the end:\")\n",
        "traverse_Sent(head)"
      ],
      "metadata": {
        "id": "Zu9DhUQmVyuL",
        "outputId": "e3066ec8-f332-48e8-df34-604339aeee8a",
        "colab": {
          "base_uri": "https://localhost:8080/"
        }
      },
      "execution_count": null,
      "outputs": [
        {
          "output_type": "stream",
          "name": "stdout",
          "text": [
            "List after inserting 4, 5 at the end:\n",
            "1 -> 2 -> 3 -> 4 -> 5 -> None\n"
          ]
        }
      ]
    },
    {
      "cell_type": "code",
      "source": [
        "# Delete a node\n",
        "delete_node_Sentinnel(head, 3)\n",
        "print(\"List after deleting node with value 3:\")\n",
        "traverse_Sent(head)"
      ],
      "metadata": {
        "id": "J98PHz-hVzX6",
        "outputId": "954013e3-bc25-4044-bc83-deda104e16e5",
        "colab": {
          "base_uri": "https://localhost:8080/"
        }
      },
      "execution_count": null,
      "outputs": [
        {
          "output_type": "stream",
          "name": "stdout",
          "text": [
            "List after deleting node with value 3:\n",
            "1 -> 2 -> 4 -> 5 -> None\n"
          ]
        }
      ]
    },
    {
      "cell_type": "code",
      "source": [
        "# Search for a node\n",
        "print(\"Search for value 4 in the list:\", search_node_Sent(head, 4))\n",
        "print(\"Search for value 6 in the list:\", search_node_Sent(head, 6))"
      ],
      "metadata": {
        "id": "weBq5P_5V10r",
        "outputId": "3cf2158f-b2c6-495d-b51f-eb1ef90448e9",
        "colab": {
          "base_uri": "https://localhost:8080/"
        }
      },
      "execution_count": null,
      "outputs": [
        {
          "output_type": "stream",
          "name": "stdout",
          "text": [
            "Search for value 4 in the list: True\n",
            "Search for value 6 in the list: False\n"
          ]
        }
      ]
    },
    {
      "cell_type": "code",
      "source": [
        "# Traverse the list\n",
        "print(\"Final list:\")\n",
        "traverse_Sent(head)  # Output: 1 -> 2 -> 4 -> 5 -> None"
      ],
      "metadata": {
        "id": "CTrXdxCuV5qa",
        "outputId": "a7a09482-c37a-48e4-802a-4f5677964abd",
        "colab": {
          "base_uri": "https://localhost:8080/"
        }
      },
      "execution_count": null,
      "outputs": [
        {
          "output_type": "stream",
          "name": "stdout",
          "text": [
            "Final list:\n",
            "1 -> 2 -> 4 -> 5 -> None\n"
          ]
        }
      ]
    },
    {
      "cell_type": "markdown",
      "source": [
        "##Floyd's Tortoise and Hare Algorithm for Circular Linked Lists\n",
        "\n",
        "**Purpose**: Detect if a linked list contains a cycle (i.e., if any node in the list is visited more than once).\n",
        "\n",
        "**Principle**: Uses two pointers (tortoise and hare) moving at different speeds. If there is a cycle, the faster pointer (hare) will eventually meet the slower pointer (tortoise)."
      ],
      "metadata": {
        "id": "hF7bF__tPR7J"
      }
    },
    {
      "cell_type": "code",
      "source": [
        "#Without Sentinnel Node\n",
        "def has_cycle(head):\n",
        "    if not head or not head.next:\n",
        "        return False\n",
        "\n",
        "    tortoise = head\n",
        "    hare = head\n",
        "\n",
        "    while hare and hare.next:\n",
        "        tortoise = tortoise.next          # Move tortoise by 1 step\n",
        "        hare = hare.next.next             # Move hare by 2 steps\n",
        "\n",
        "        if tortoise == hare:              # Cycle detected\n",
        "            return True\n",
        "\n",
        "    return False                          # No cycle"
      ],
      "metadata": {
        "id": "LiIefFZ1KzjG"
      },
      "execution_count": null,
      "outputs": []
    },
    {
      "cell_type": "code",
      "source": [
        "#With Sentinnel Node\n",
        "def has_cycle_Sent(head):\n",
        "    if not head or not head.next:\n",
        "        return False\n",
        "\n",
        "    tortoise = head.next  # Start from the first real node\n",
        "    hare = head.next      # Start from the first real node\n",
        "\n",
        "    while hare and hare.next:\n",
        "        tortoise = tortoise.next          # Move tortoise by 1 step\n",
        "        hare = hare.next.next             # Move hare by 2 steps\n",
        "\n",
        "        if tortoise == hare:              # Cycle detected\n",
        "            return True\n",
        "\n",
        "    return False                          # No cycle"
      ],
      "metadata": {
        "id": "JrJ5QSrrXQsS"
      },
      "execution_count": null,
      "outputs": []
    },
    {
      "cell_type": "code",
      "source": [
        "# Create a linked list with a cycle\n",
        "ll_without_cycle = LinkedList()\n",
        "head = ll_without_cycle.head\n",
        "add_Sentinnel(head, 1)\n",
        "add_Sentinnel(head, 2)\n",
        "add_Sentinnel(head, 3)\n",
        "add_Sentinnel(head, 4)\n",
        "\n",
        "print(\"Cycle detected.\" if has_cycle(ll_without_cycle.head) else \"No cycle detected.\")  # Output: No Cycle detected."
      ],
      "metadata": {
        "id": "s6Ik3vwnXadQ",
        "outputId": "3acc4748-4764-4832-f750-676ecad3d047",
        "colab": {
          "base_uri": "https://localhost:8080/"
        }
      },
      "execution_count": null,
      "outputs": [
        {
          "output_type": "stream",
          "name": "stdout",
          "text": [
            "No cycle detected.\n"
          ]
        }
      ]
    },
    {
      "cell_type": "code",
      "source": [
        "# Creating a cycle\n",
        "cycle_node = ll_without_cycle.head.next.next  # Node with value 2\n",
        "end_node = ll_without_cycle.head\n",
        "while end_node.next:\n",
        "    end_node = end_node.next\n",
        "end_node.next = cycle_node  # Create a cycle (4 -> 2)\n",
        "\n",
        "# Test if the linked list has a cycle\n",
        "print(\"Cycle detected.\" if has_cycle(ll_without_cycle.head) else \"No cycle detected.\")  # Output: Cycle detected."
      ],
      "metadata": {
        "id": "yJGX458BaKd2",
        "outputId": "7dcbc641-0d67-48b4-8b64-48f3eec91755",
        "colab": {
          "base_uri": "https://localhost:8080/"
        }
      },
      "execution_count": null,
      "outputs": [
        {
          "output_type": "stream",
          "name": "stdout",
          "text": [
            "Cycle detected.\n"
          ]
        }
      ]
    },
    {
      "cell_type": "markdown",
      "source": [
        "#Strings and Arrays\n",
        "## Techniques and Structures for Solving Probelems:\n",
        "1. 2 Pointer\n",
        "2. Multiple Pointers\n",
        "3. Sliding Window\n",
        "4. Counter Variables\n",
        "5. Sorting Algorithms"
      ],
      "metadata": {
        "id": "yWs5OENJFFfE"
      }
    },
    {
      "cell_type": "markdown",
      "source": [
        "##Two Pointer Technique\n",
        "\n",
        "The Two Pointers technique involves using two indices to traverse the array, often to find pairs or subarrays with certain properties.\n",
        "\n",
        "Example Problem: Find two numbers in a sorted array that sum up to a given target."
      ],
      "metadata": {
        "id": "ArShlGbvpsJ3"
      }
    },
    {
      "cell_type": "code",
      "source": [
        "def two_sum_sorted(nums, target):\n",
        "\n",
        "    #create the two pointers. Left at index 0 and right at the last index\n",
        "    left, right = 0, len(nums) - 1\n",
        "\n",
        "    #Create a while loop that will not allow the two pointers to surpass each other\n",
        "    while left < right:\n",
        "        #calculare the sum of the left and right pointer and save it to a variable\n",
        "        curr_sum = nums[left] + nums[right]\n",
        "        #if we achieve the target, then return the left and right pointer indices or positions\n",
        "        if curr_sum == target:\n",
        "            return [left, right]\n",
        "        #otherwise, if the sum we get is less than the target, update the left pointer.\n",
        "        #rememebr this is a sorted array from lest to greatest. Since we have a number less than the target, we need to add a bigger number to add.\n",
        "        elif curr_sum < target:\n",
        "            left += 1\n",
        "        #otherwise, if the sum we get is greater than the target, update the right pointer.\n",
        "        else:\n",
        "            right -= 1\n",
        "    #return an empty list if there are no two numbers that equal the target array\n",
        "    return []"
      ],
      "metadata": {
        "id": "3-sAkXI_p3pW"
      },
      "execution_count": null,
      "outputs": []
    },
    {
      "cell_type": "code",
      "source": [
        "# Example usage:\n",
        "nums = [1, 2, 3, 4, 6]\n",
        "target = 6\n",
        "print(two_sum_sorted(nums, target))  # Output: [1, 3]"
      ],
      "metadata": {
        "id": "BUa9UjIBq0xe"
      },
      "execution_count": null,
      "outputs": []
    },
    {
      "cell_type": "markdown",
      "source": [
        "##Multiple Pointers Technique\n",
        "\n",
        "Multiple Pointers involves using several pointers to partition arrays or solve more complex problems.\n",
        "\n",
        "Example Problem:"
      ],
      "metadata": {
        "id": "BPBoHiirqy8K"
      }
    },
    {
      "cell_type": "code",
      "source": [],
      "metadata": {
        "id": "NaG-8E1Lq8xM"
      },
      "execution_count": null,
      "outputs": []
    },
    {
      "cell_type": "code",
      "source": [],
      "metadata": {
        "id": "ofU-F2ofq-fC"
      },
      "execution_count": null,
      "outputs": []
    },
    {
      "cell_type": "markdown",
      "source": [
        "##Sliding Window Technique\n",
        "\n",
        "The Sliding Window technique is useful for problems involving subarrays or substrings, such as finding the maximum sum of a subarray of fixed length.\n",
        "\n",
        "Example Problem:\n",
        "\n"
      ],
      "metadata": {
        "id": "f_5PyRMdrVkV"
      }
    },
    {
      "cell_type": "code",
      "source": [],
      "metadata": {
        "id": "0rqUXjUOrcjU"
      },
      "execution_count": null,
      "outputs": []
    },
    {
      "cell_type": "code",
      "source": [],
      "metadata": {
        "id": "FJ8Ga5XCsBIi"
      },
      "execution_count": null,
      "outputs": []
    },
    {
      "cell_type": "markdown",
      "source": [
        "##Counter Variables\n",
        "\n",
        "Explanation: Counter Variables are used to keep track of the frequency of elements or specific conditions in an array or string.\n",
        "\n",
        "Example Problem:"
      ],
      "metadata": {
        "id": "oRjDpy8FryN0"
      }
    },
    {
      "cell_type": "code",
      "source": [],
      "metadata": {
        "id": "ZxUpEYWusA5V"
      },
      "execution_count": null,
      "outputs": []
    },
    {
      "cell_type": "code",
      "source": [],
      "metadata": {
        "id": "RGKZj649sApn"
      },
      "execution_count": null,
      "outputs": []
    },
    {
      "cell_type": "markdown",
      "source": [
        "##Sorting Algorithms\n",
        "Explanation: Sorting algorithms are fundamental and often a preliminary step in solving more complex problems.\n",
        "\n",
        "Example Problem:"
      ],
      "metadata": {
        "id": "QIXQNNQxsBhC"
      }
    },
    {
      "cell_type": "code",
      "source": [],
      "metadata": {
        "id": "XS60BnChsFTY"
      },
      "execution_count": null,
      "outputs": []
    },
    {
      "cell_type": "code",
      "source": [],
      "metadata": {
        "id": "GkGxMt8YsFjn"
      },
      "execution_count": null,
      "outputs": []
    },
    {
      "cell_type": "markdown",
      "source": [
        "#Recursion\n",
        "\n",
        "Recursion is a method of solving problems where a function calls itself as a subroutine. This allows the function to be repeated several times, as it can call itself during its execution.\n",
        "1. Base Case: The condition under which the recursive function stops calling itself to prevent infinite recursion.\n",
        "2. Recursive Case: The part of the function where it calls itself with modified arguments.\n",
        "\n",
        "Example Problem: Factorials\n",
        "\n",
        "The factorial of a number n (n!) is the product of all positive integers less than or equal to n.\n",
        "\n",
        "5! = 5 x 4 x 3 x 2 x 1 = 120\n",
        "\n",
        "Base Case: 0! = 1\n",
        "Recursive Case: n! = n x (n-1)"
      ],
      "metadata": {
        "id": "K-HoavUibYtX"
      }
    },
    {
      "cell_type": "code",
      "source": [
        "def factorial(n):\n",
        "    if n == 0:\n",
        "        return 1  # Base case\n",
        "    else:\n",
        "        return n * factorial(n - 1)  # Recursive case"
      ],
      "metadata": {
        "id": "yxjRTsZhspiF"
      },
      "execution_count": null,
      "outputs": []
    },
    {
      "cell_type": "markdown",
      "source": [
        "#Sorting Algorithms\n",
        "\n",
        "![image.png](data:image/png;base64,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)"
      ],
      "metadata": {
        "id": "sds0qZUEoKZU"
      }
    },
    {
      "cell_type": "code",
      "source": [],
      "metadata": {
        "id": "9NMiYgHaoVyW"
      },
      "execution_count": null,
      "outputs": []
    },
    {
      "cell_type": "code",
      "source": [],
      "metadata": {
        "id": "qLgIH-KloVkg"
      },
      "execution_count": null,
      "outputs": []
    },
    {
      "cell_type": "code",
      "source": [],
      "metadata": {
        "id": "Uydg4UZioVdQ"
      },
      "execution_count": null,
      "outputs": []
    },
    {
      "cell_type": "code",
      "source": [],
      "metadata": {
        "id": "EMvu3kbAoVW1"
      },
      "execution_count": null,
      "outputs": []
    },
    {
      "cell_type": "code",
      "source": [],
      "metadata": {
        "id": "yuRCDTIHoVPv"
      },
      "execution_count": null,
      "outputs": []
    },
    {
      "cell_type": "code",
      "source": [],
      "metadata": {
        "id": "yZt7uvk-oVEg"
      },
      "execution_count": null,
      "outputs": []
    },
    {
      "cell_type": "markdown",
      "source": [
        "#Binary Trees\n",
        "\n",
        "##Characterisitcs of a Binary Tree\n",
        "\n",
        "1. Definition: A binary tree is a tree data structure in which each node has at most two children, referred to as the left child and the right child.\n",
        "\n",
        "2. The building blocks of a binary tree are nodes connected by edges.\n",
        "\n",
        "3. Root: The topmost node in a binary tree is called the root.\n",
        "\n",
        "4. Leaf: A node with no children is called a leaf.\n",
        "\n",
        "5. Internal Node: A node with at least one child is called an internal node.\n",
        "\n",
        "##Height vs Depth\n",
        "\n",
        "Height (bottom --> top): The height of a node is the number of edges on the longest path from the node to a leaf. The height of a lead node is 0.\n",
        "\n",
        "Depth (top --> bottom): The depth of a node is the number of edges from the root to the node. You can also count is but level starting from level 0 at the root until you reach the nth level of node in question. Root is a depth of 0.\n",
        "\n",
        "##Balanced Trees\n",
        "A tree is considered balanced if the height of its left and right subtrees differ by at most one for every node.\n",
        "\n",
        "Calculate the Height of Subtrees:\n",
        "\n",
        "1. Start from the leaf nodes and move upwards.\n",
        "    \n",
        "    Left Height: 0 (no left child)\n",
        "    \n",
        "    Right Height: 0 (no right child)\n",
        "  \n",
        "    Height: (max(0, 0) + 1) = 1\n",
        "2. Reach the root node and if it has a height difference greater than 1, it is unbalanced\n",
        "\n",
        "\n",
        "##Full vs Complete Trees\n",
        "\n",
        "1. Full Tree: A binary tree is full if every node has 0 or 2 children.\n",
        "2. Complete Tree:  if all its levels, except possibly the last level, have the maximum number of possible nodes, and all the nodes in the last level appear as far left as possible.\n",
        "\n",
        "\n",
        "\n",
        "> \"A perfectly full tree is always a complete tree. A complete and perfeclty full tree is always balanced.\"\n",
        "\n"
      ],
      "metadata": {
        "id": "QLsoUy4bjMOY"
      }
    },
    {
      "cell_type": "code",
      "source": [
        "        1\n",
        "       / \\\n",
        "      2   3\n",
        "     / \\ / \\        # A complete tree becuase all levels are full except for the last which is filled from the left; not a full tree because node 4 has one child\n",
        "    4   56  7       # Array : [1,2,3,4,5,6,7,8] (can never have null values)\n",
        "   /                # Is it balanced ? Yes\n",
        "  8"
      ],
      "metadata": {
        "id": "fO-zO_BUgsbK"
      },
      "execution_count": null,
      "outputs": []
    },
    {
      "cell_type": "code",
      "source": [
        "    1\n",
        "   / \\              # Both complete and (Perfectly) full\n",
        "  2   3             # Array: [1,2,3,4,5,6,7]\n",
        " / \\ / \\            # Is is balanced ? Yes\n",
        "4  5 6  7\n"
      ],
      "metadata": {
        "id": "4Rl7f4jUhiR2"
      },
      "execution_count": null,
      "outputs": []
    },
    {
      "cell_type": "code",
      "source": [
        "# traversals through binary tree\n",
        "# pre, post, in expressions evaulations\n",
        "#how to solve using\n",
        "#nlogn\n",
        "#SC and TC"
      ],
      "metadata": {
        "id": "bEgSiJXojOYO"
      },
      "execution_count": null,
      "outputs": []
    },
    {
      "cell_type": "markdown",
      "source": [
        "##Tree Traversals\n",
        "Pre-Order Traversal (Root, Left, Right)\n",
        "\n",
        "1. Visit the root.\n",
        "2. Traverse the left subtree.\n",
        "3. Traverse the right subtree.\n",
        "\n",
        "In-Order Traversal (Left, Root, Right)\n",
        "\n",
        "1. Traverse the left subtree.\n",
        "2. Visit the root.\n",
        "3. Traverse the right subtree.\n",
        "\n",
        "Post-Order Traversal (Left, Right, Root)\n",
        "\n",
        "1. Traverse the left subtree.\n",
        "2. Traverse the right subtree.\n",
        "3. Visit the root.\n",
        "\n",
        "Expression Evaluations Using Traversals\n",
        "\n",
        "Pre-Order: Useful for creating prefix expressions.\n",
        "\n",
        "In-Order: Useful for creating infix expressions.\n",
        "\n",
        "Post-Order: Useful for creating postfix expressions."
      ],
      "metadata": {
        "id": "3T2l4pqSEisB"
      }
    },
    {
      "cell_type": "code",
      "source": [
        "def pre_order(node):\n",
        "    if node:\n",
        "        print(node.value)\n",
        "        pre_order(node.left)\n",
        "        pre_order(node.right)"
      ],
      "metadata": {
        "id": "br7OFMLAlSO-"
      },
      "execution_count": null,
      "outputs": []
    },
    {
      "cell_type": "code",
      "source": [
        "def in_order(node):\n",
        "    if node:\n",
        "        in_order(node.left)\n",
        "        print(node.value)\n",
        "        in_order(node.right)"
      ],
      "metadata": {
        "id": "X-u0cfnflSfF"
      },
      "execution_count": null,
      "outputs": []
    },
    {
      "cell_type": "code",
      "source": [
        "def post_order(node):\n",
        "    if node:\n",
        "        post_order(node.left)\n",
        "        post_order(node.right)\n",
        "        print(node.value)"
      ],
      "metadata": {
        "id": "4oArSluYlSqk"
      },
      "execution_count": null,
      "outputs": []
    },
    {
      "cell_type": "code",
      "source": [
        "#Using stacks to achieve a post-order traversal\n"
      ],
      "metadata": {
        "id": "3XlslXM8Q1kW"
      },
      "execution_count": null,
      "outputs": []
    },
    {
      "cell_type": "markdown",
      "source": [
        "![image.png](data:image/png;base64,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)"
      ],
      "metadata": {
        "id": "0G8masz8j-sz"
      }
    },
    {
      "cell_type": "code",
      "source": [
        "# @title Breadth First Traversal\n"
      ],
      "metadata": {
        "id": "LFYNK5zqoLEZ"
      },
      "execution_count": null,
      "outputs": []
    },
    {
      "cell_type": "code",
      "source": [
        "# @title Depth First Traversal\n"
      ],
      "metadata": {
        "id": "FhP3OlkCoKzi"
      },
      "execution_count": null,
      "outputs": []
    },
    {
      "cell_type": "markdown",
      "source": [
        "##Binary Search Trees\n",
        "##Charcateristics of a Binary Search Tree\n",
        "Definition: A BST is a binary tree where each node has a key, and every node's key is:\n",
        "1. Greater than all keys in its left subtree.\n",
        "2. Less than all keys in its right subtree.\n",
        "\n",
        "Advantages: BSTs support efficient search, insertion, and deletion operations.\n",
        "\n",
        "Operations:\n",
        "1. Search: Start at the root, compare the key, and decide to go left or right.\n",
        "2. Insertion: Follow the search path to find the correct spot for the new key.\n",
        "3. Deletion: Handle three cases:\n",
        "\n",
        "    a. If the node to be deleted is a leaf node, you can simply remove it from the tree.\n",
        "    \n",
        "    b. If the node to be deleted has one child, you can remove the node and replace it with its child.\n",
        "\n",
        "    c. If the node to be deleted has two children, you need to find the node's in-order successor (the smallest node in the right subtree) or in-order predecessor (the largest node in the left subtree) to replace the node's value and then delete the successor or predecessor."
      ],
      "metadata": {
        "id": "S6lFjdbEEN50"
      }
    },
    {
      "cell_type": "code",
      "source": [
        "class TreeNode:\n",
        "    def __init__(self, key=0, left=None, right=None):\n",
        "        self.key = key\n",
        "        self.left = left\n",
        "        self.right = right"
      ],
      "metadata": {
        "id": "2yD_K6DOmV4m"
      },
      "execution_count": null,
      "outputs": []
    },
    {
      "cell_type": "code",
      "source": [
        "def delete_node(root, key):\n",
        "    if not root:\n",
        "        return root\n",
        "\n",
        "    # Find the node to be deleted\n",
        "    if key < root.key:\n",
        "        root.left = delete_node(root.left, key)\n",
        "    elif key > root.key:\n",
        "        root.right = delete_node(root.right, key)\n",
        "    else:\n",
        "        # Node with only one child or no child\n",
        "        if not root.left:\n",
        "            return root.right\n",
        "        elif not root.right:\n",
        "            return root.left\n",
        "\n",
        "        # Node with two children: Get the inorder successor (smallest in the right subtree)\n",
        "        temp = min_value_node(root.right)\n",
        "        root.key = temp.key\n",
        "        root.right = delete_node(root.right, temp.key)\n",
        "\n",
        "    return root\n",
        "\n",
        "def min_value_node(node):\n",
        "    current = node\n",
        "    while current.left:\n",
        "        current = current.left\n",
        "    return current\n",
        "\n",
        "# Helper function to insert a new node with given key\n",
        "def insert_node(root, key):\n",
        "    if root is None:\n",
        "        return TreeNode(key)\n",
        "    else:\n",
        "        if root.key < key:\n",
        "            root.right = insert_node(root.right, key)\n",
        "        else:\n",
        "            root.left = insert_node(root.left, key)\n",
        "    return root\n",
        "\n",
        "# Helper function to do inorder traversal of the tree\n",
        "def inorder_traversal(root):\n",
        "    if root:\n",
        "        inorder_traversal(root.left)\n",
        "        print(root.key, end=\" \")\n",
        "        inorder_traversal(root.right)"
      ],
      "metadata": {
        "id": "myptnBqGmYos"
      },
      "execution_count": null,
      "outputs": []
    },
    {
      "cell_type": "code",
      "source": [
        "# Example usage\n",
        "root = None\n",
        "keys = [50, 30, 20, 40, 70, 60, 80]\n",
        "\n",
        "for key in keys:\n",
        "    root = insert_node(root, key)\n",
        "\n",
        "print(\"Inorder traversal before deletion:\")\n",
        "inorder_traversal(root)\n",
        "print()\n",
        "\n",
        "key_to_delete = 50\n",
        "root = delete_node(root, key_to_delete)\n",
        "\n",
        "print(f\"Inorder traversal after deleting {key_to_delete}:\")\n",
        "inorder_traversal(root)\n",
        "print()"
      ],
      "metadata": {
        "colab": {
          "base_uri": "https://localhost:8080/"
        },
        "id": "GbsZw4yhnLRn",
        "outputId": "72cd9c70-ab1c-4681-a7b5-e68d71aea112"
      },
      "execution_count": null,
      "outputs": [
        {
          "output_type": "stream",
          "name": "stdout",
          "text": [
            "Inorder traversal before deletion:\n",
            "20 30 40 50 60 70 80 \n",
            "Inorder traversal after deleting 50:\n",
            "20 30 40 60 70 80 \n"
          ]
        }
      ]
    },
    {
      "cell_type": "markdown",
      "source": [
        "#Graphs and Matrices\n",
        "\n",
        "### Key Concepts of Graphs\n",
        "\n",
        "1. **Nodes (Vertices):** The individual elements or points in a graph.\n",
        "2. **Edges:** The connections between nodes. In the context of this problem, edges represent the adjacency (horizontal or vertical) between land cells.\n",
        "\n",
        "### Types of Graphs\n",
        "\n",
        "1. **Undirected Graph:** Edges have no direction, meaning the connection between nodes is two-way.\n",
        "2. **Directed Graph:** Edges have a direction, meaning the connection is one-way.\n",
        "\n",
        "### Graph Representation\n",
        "\n",
        "Graphs can be represented in several ways, including:\n",
        "\n",
        "1. **Adjacency Matrix:** A 2D array where each cell (i, j) indicates if there's an edge between node i and node j.\n",
        "2. **Adjacency List:** A list where each element represents a node and contains a list of all nodes connected to it.\n"
      ],
      "metadata": {
        "id": "IaXcPtnQoVLG"
      }
    },
    {
      "cell_type": "code",
      "source": [],
      "metadata": {
        "id": "QRsmf1_Jogw7"
      },
      "execution_count": null,
      "outputs": []
    }
  ]
}